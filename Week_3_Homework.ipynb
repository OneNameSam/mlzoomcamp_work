{
  "nbformat": 4,
  "nbformat_minor": 0,
  "metadata": {
    "colab": {
      "name": "Week 3 Homework.ipynb",
      "provenance": [],
      "collapsed_sections": [],
      "authorship_tag": "ABX9TyN+UWhMGqdeEhstx2tQ+BMD",
      "include_colab_link": true
    },
    "kernelspec": {
      "name": "python3",
      "display_name": "Python 3"
    },
    "language_info": {
      "name": "python"
    }
  },
  "cells": [
    {
      "cell_type": "markdown",
      "metadata": {
        "id": "view-in-github",
        "colab_type": "text"
      },
      "source": [
        "<a href=\"https://colab.research.google.com/github/OneNameSam/mlzoomcamp_work/blob/main/Week_3_Homework.ipynb\" target=\"_parent\"><img src=\"https://colab.research.google.com/assets/colab-badge.svg\" alt=\"Open In Colab\"/></a>"
      ]
    },
    {
      "cell_type": "code",
      "metadata": {
        "id": "ljl64EIVHtTO"
      },
      "source": [
        "import pandas as pd \n",
        "import numpy as np\n",
        "import matplotlib.pyplot as plt\n",
        "import seaborn as sns \n",
        "\n",
        "import warnings \n",
        "warnings.filterwarnings('ignore')"
      ],
      "execution_count": 45,
      "outputs": []
    },
    {
      "cell_type": "code",
      "metadata": {
        "id": "Y7d0_J7UHxXU"
      },
      "source": [
        "features = ['neighbourhood_group',\n",
        "'room_type',\n",
        "'latitude',\n",
        "'longitude',\n",
        "'price',\n",
        "'minimum_nights',\n",
        "'number_of_reviews',\n",
        "'reviews_per_month',\n",
        "'calculated_host_listings_count',\n",
        "'availability_365']\n"
      ],
      "execution_count": 46,
      "outputs": []
    },
    {
      "cell_type": "code",
      "metadata": {
        "id": "ygnuSKHiH57E"
      },
      "source": [
        "url = 'https://raw.githubusercontent.com/alexeygrigorev/datasets/master/AB_NYC_2019.csv'"
      ],
      "execution_count": 47,
      "outputs": []
    },
    {
      "cell_type": "code",
      "metadata": {
        "id": "3I-5CuseH7ON"
      },
      "source": [
        "df = pd.read_csv(url)"
      ],
      "execution_count": 48,
      "outputs": []
    },
    {
      "cell_type": "code",
      "metadata": {
        "colab": {
          "base_uri": "https://localhost:8080/"
        },
        "id": "61AVqTzwKpPS",
        "outputId": "9fe9d229-4e1c-46df-f9b3-93c83dd08094"
      },
      "source": [
        "df.reviews_per_month = df.reviews_per_month.fillna(0)\n",
        "df.isnull().sum()\n",
        "df.shape"
      ],
      "execution_count": 49,
      "outputs": [
        {
          "output_type": "execute_result",
          "data": {
            "text/plain": [
              "(48895, 16)"
            ]
          },
          "metadata": {},
          "execution_count": 49
        }
      ]
    },
    {
      "cell_type": "markdown",
      "metadata": {
        "id": "rrdwXZUkIkSF"
      },
      "source": [
        "#### Question 1 "
      ]
    },
    {
      "cell_type": "code",
      "metadata": {
        "colab": {
          "base_uri": "https://localhost:8080/"
        },
        "id": "BACtPSUIIkCx",
        "outputId": "30a3f86f-73ac-4124-fb3a-c93ead5526a6"
      },
      "source": [
        "df.neighbourhood_group.value_counts()"
      ],
      "execution_count": 50,
      "outputs": [
        {
          "output_type": "execute_result",
          "data": {
            "text/plain": [
              "Manhattan        21661\n",
              "Brooklyn         20104\n",
              "Queens            5666\n",
              "Bronx             1091\n",
              "Staten Island      373\n",
              "Name: neighbourhood_group, dtype: int64"
            ]
          },
          "metadata": {},
          "execution_count": 50
        }
      ]
    },
    {
      "cell_type": "code",
      "metadata": {
        "colab": {
          "base_uri": "https://localhost:8080/"
        },
        "id": "DBIDeztD4-3t",
        "outputId": "b2d2ba70-8788-407e-c015-bd42372952be"
      },
      "source": [
        "df.neighbourhood_group.mode()"
      ],
      "execution_count": 51,
      "outputs": [
        {
          "output_type": "execute_result",
          "data": {
            "text/plain": [
              "0    Manhattan\n",
              "dtype: object"
            ]
          },
          "metadata": {},
          "execution_count": 51
        }
      ]
    },
    {
      "cell_type": "code",
      "metadata": {
        "id": "7MHoJaGwIqvd"
      },
      "source": [
        "from sklearn.model_selection import train_test_split"
      ],
      "execution_count": 52,
      "outputs": []
    },
    {
      "cell_type": "code",
      "metadata": {
        "id": "rNJaqQYLI1PX"
      },
      "source": [
        "# # Splitting the df into train and test \n",
        "# df_full_train, df_test = train_test_split(df, test_size=0.2, random_state=42)\n",
        "# # Splitting the full train df into train and validation dfs\n",
        "# df_train, df_val = train_test_split(df_full_train, test_size=0.25, random_state=42)\n",
        "\n",
        "# df_train = df_train.reset_index(drop=True)\n",
        "# df_val = df_val.reset_index(drop=True)\n",
        "# df_test = df_test.reset_index(drop=True)"
      ],
      "execution_count": 53,
      "outputs": []
    },
    {
      "cell_type": "code",
      "metadata": {
        "id": "MG5vhJEfJK-d"
      },
      "source": [
        "# y_train = df_train.price.values \n",
        "# y_val = df_val.price.values \n",
        "# y_test = df_test.price.values "
      ],
      "execution_count": 54,
      "outputs": []
    },
    {
      "cell_type": "code",
      "metadata": {
        "id": "m084GsnxJLfW"
      },
      "source": [
        "# del df_train['price']\n",
        "# del df_val['price']\n",
        "# del df_test['price']"
      ],
      "execution_count": 55,
      "outputs": []
    },
    {
      "cell_type": "markdown",
      "metadata": {
        "id": "X8zy9mhvJ6Wx"
      },
      "source": [
        "#### Question 2 "
      ]
    },
    {
      "cell_type": "code",
      "metadata": {
        "colab": {
          "base_uri": "https://localhost:8080/",
          "height": 328
        },
        "id": "GW4KJdajKi7m",
        "outputId": "2b55fefd-7c65-4bf2-9710-71523b8d45ef"
      },
      "source": [
        "df_num = df.copy()\n",
        "df_num = df_num.drop(['neighbourhood_group', 'room_type', 'price'], axis=1)\n",
        "corrMatrix = df_num.corr()\n",
        "display (corrMatrix)"
      ],
      "execution_count": 56,
      "outputs": [
        {
          "output_type": "display_data",
          "data": {
            "text/html": [
              "<div>\n",
              "<style scoped>\n",
              "    .dataframe tbody tr th:only-of-type {\n",
              "        vertical-align: middle;\n",
              "    }\n",
              "\n",
              "    .dataframe tbody tr th {\n",
              "        vertical-align: top;\n",
              "    }\n",
              "\n",
              "    .dataframe thead th {\n",
              "        text-align: right;\n",
              "    }\n",
              "</style>\n",
              "<table border=\"1\" class=\"dataframe\">\n",
              "  <thead>\n",
              "    <tr style=\"text-align: right;\">\n",
              "      <th></th>\n",
              "      <th>id</th>\n",
              "      <th>host_id</th>\n",
              "      <th>latitude</th>\n",
              "      <th>longitude</th>\n",
              "      <th>minimum_nights</th>\n",
              "      <th>number_of_reviews</th>\n",
              "      <th>reviews_per_month</th>\n",
              "      <th>calculated_host_listings_count</th>\n",
              "      <th>availability_365</th>\n",
              "    </tr>\n",
              "  </thead>\n",
              "  <tbody>\n",
              "    <tr>\n",
              "      <th>id</th>\n",
              "      <td>1.000000</td>\n",
              "      <td>0.588290</td>\n",
              "      <td>-0.003125</td>\n",
              "      <td>0.090908</td>\n",
              "      <td>-0.013224</td>\n",
              "      <td>-0.319760</td>\n",
              "      <td>0.180221</td>\n",
              "      <td>0.133272</td>\n",
              "      <td>0.085468</td>\n",
              "    </tr>\n",
              "    <tr>\n",
              "      <th>host_id</th>\n",
              "      <td>0.588290</td>\n",
              "      <td>1.000000</td>\n",
              "      <td>0.020224</td>\n",
              "      <td>0.127055</td>\n",
              "      <td>-0.017364</td>\n",
              "      <td>-0.140106</td>\n",
              "      <td>0.209783</td>\n",
              "      <td>0.154950</td>\n",
              "      <td>0.203492</td>\n",
              "    </tr>\n",
              "    <tr>\n",
              "      <th>latitude</th>\n",
              "      <td>-0.003125</td>\n",
              "      <td>0.020224</td>\n",
              "      <td>1.000000</td>\n",
              "      <td>0.084788</td>\n",
              "      <td>0.024869</td>\n",
              "      <td>-0.015389</td>\n",
              "      <td>-0.018758</td>\n",
              "      <td>0.019517</td>\n",
              "      <td>-0.010983</td>\n",
              "    </tr>\n",
              "    <tr>\n",
              "      <th>longitude</th>\n",
              "      <td>0.090908</td>\n",
              "      <td>0.127055</td>\n",
              "      <td>0.084788</td>\n",
              "      <td>1.000000</td>\n",
              "      <td>-0.062747</td>\n",
              "      <td>0.059094</td>\n",
              "      <td>0.138516</td>\n",
              "      <td>-0.114713</td>\n",
              "      <td>0.082731</td>\n",
              "    </tr>\n",
              "    <tr>\n",
              "      <th>minimum_nights</th>\n",
              "      <td>-0.013224</td>\n",
              "      <td>-0.017364</td>\n",
              "      <td>0.024869</td>\n",
              "      <td>-0.062747</td>\n",
              "      <td>1.000000</td>\n",
              "      <td>-0.080116</td>\n",
              "      <td>-0.124905</td>\n",
              "      <td>0.127960</td>\n",
              "      <td>0.144303</td>\n",
              "    </tr>\n",
              "    <tr>\n",
              "      <th>number_of_reviews</th>\n",
              "      <td>-0.319760</td>\n",
              "      <td>-0.140106</td>\n",
              "      <td>-0.015389</td>\n",
              "      <td>0.059094</td>\n",
              "      <td>-0.080116</td>\n",
              "      <td>1.000000</td>\n",
              "      <td>0.589407</td>\n",
              "      <td>-0.072376</td>\n",
              "      <td>0.172028</td>\n",
              "    </tr>\n",
              "    <tr>\n",
              "      <th>reviews_per_month</th>\n",
              "      <td>0.180221</td>\n",
              "      <td>0.209783</td>\n",
              "      <td>-0.018758</td>\n",
              "      <td>0.138516</td>\n",
              "      <td>-0.124905</td>\n",
              "      <td>0.589407</td>\n",
              "      <td>1.000000</td>\n",
              "      <td>-0.047312</td>\n",
              "      <td>0.163732</td>\n",
              "    </tr>\n",
              "    <tr>\n",
              "      <th>calculated_host_listings_count</th>\n",
              "      <td>0.133272</td>\n",
              "      <td>0.154950</td>\n",
              "      <td>0.019517</td>\n",
              "      <td>-0.114713</td>\n",
              "      <td>0.127960</td>\n",
              "      <td>-0.072376</td>\n",
              "      <td>-0.047312</td>\n",
              "      <td>1.000000</td>\n",
              "      <td>0.225701</td>\n",
              "    </tr>\n",
              "    <tr>\n",
              "      <th>availability_365</th>\n",
              "      <td>0.085468</td>\n",
              "      <td>0.203492</td>\n",
              "      <td>-0.010983</td>\n",
              "      <td>0.082731</td>\n",
              "      <td>0.144303</td>\n",
              "      <td>0.172028</td>\n",
              "      <td>0.163732</td>\n",
              "      <td>0.225701</td>\n",
              "      <td>1.000000</td>\n",
              "    </tr>\n",
              "  </tbody>\n",
              "</table>\n",
              "</div>"
            ],
            "text/plain": [
              "                                      id  ...  availability_365\n",
              "id                              1.000000  ...          0.085468\n",
              "host_id                         0.588290  ...          0.203492\n",
              "latitude                       -0.003125  ...         -0.010983\n",
              "longitude                       0.090908  ...          0.082731\n",
              "minimum_nights                 -0.013224  ...          0.144303\n",
              "number_of_reviews              -0.319760  ...          0.172028\n",
              "reviews_per_month               0.180221  ...          0.163732\n",
              "calculated_host_listings_count  0.133272  ...          0.225701\n",
              "availability_365                0.085468  ...          1.000000\n",
              "\n",
              "[9 rows x 9 columns]"
            ]
          },
          "metadata": {}
        }
      ]
    },
    {
      "cell_type": "code",
      "metadata": {
        "id": "K8VEsS47LLAi",
        "colab": {
          "base_uri": "https://localhost:8080/",
          "height": 738
        },
        "outputId": "e2b2548f-c458-439c-8857-71d7be2a22d6"
      },
      "source": [
        "plt.figure(figsize=(15,10))\n",
        "sns.heatmap(corrMatrix, annot=True, linewidths=5, cmap=\"Blues\")\n",
        "plt.show()\n",
        "\n",
        "#df['above_average'] = df.price >= 152 "
      ],
      "execution_count": 57,
      "outputs": [
        {
          "output_type": "display_data",
          "data": {
            "image/png": "[encoded data removed]",
            "text/plain": [
              "<Figure size 1080x720 with 2 Axes>"
            ]
          },
          "metadata": {
            "needs_background": "light"
          }
        }
      ]
    },
    {
      "cell_type": "code",
      "metadata": {
        "colab": {
          "base_uri": "https://localhost:8080/"
        },
        "id": "uEO5ugFk65VG",
        "outputId": "19ec4a72-9a03-4992-a6ae-aab1c874db43"
      },
      "source": [
        "df_num.corr().unstack().sort_values(ascending=False)"
      ],
      "execution_count": 58,
      "outputs": [
        {
          "output_type": "execute_result",
          "data": {
            "text/plain": [
              "availability_365                availability_365                  1.000000\n",
              "calculated_host_listings_count  calculated_host_listings_count    1.000000\n",
              "host_id                         host_id                           1.000000\n",
              "latitude                        latitude                          1.000000\n",
              "longitude                       longitude                         1.000000\n",
              "                                                                    ...   \n",
              "reviews_per_month               minimum_nights                   -0.124905\n",
              "host_id                         number_of_reviews                -0.140106\n",
              "number_of_reviews               host_id                          -0.140106\n",
              "                                id                               -0.319760\n",
              "id                              number_of_reviews                -0.319760\n",
              "Length: 81, dtype: float64"
            ]
          },
          "metadata": {},
          "execution_count": 58
        }
      ]
    },
    {
      "cell_type": "markdown",
      "metadata": {
        "id": "es6XoGxvPB1h"
      },
      "source": [
        "### Question 3"
      ]
    },
    {
      "cell_type": "code",
      "metadata": {
        "id": "zEjlDbzgRc-Q"
      },
      "source": [
        "from sklearn.metrics import mutual_info_score"
      ],
      "execution_count": 59,
      "outputs": []
    },
    {
      "cell_type": "code",
      "metadata": {
        "colab": {
          "base_uri": "https://localhost:8080/",
          "height": 411
        },
        "id": "h-2RkuwV7R0d",
        "outputId": "45e8b7fa-98e1-40ac-9b85-2a3512e92d9e"
      },
      "source": [
        "data_class = df.copy()\n",
        "\n",
        "mean = data_class.price.mean()\n",
        "data_class['above_average'] = np.where(data_class['price']>=mean,1,0)\n",
        "data_class.head()"
      ],
      "execution_count": 60,
      "outputs": [
        {
          "output_type": "execute_result",
          "data": {
            "text/html": [
              "<div>\n",
              "<style scoped>\n",
              "    .dataframe tbody tr th:only-of-type {\n",
              "        vertical-align: middle;\n",
              "    }\n",
              "\n",
              "    .dataframe tbody tr th {\n",
              "        vertical-align: top;\n",
              "    }\n",
              "\n",
              "    .dataframe thead th {\n",
              "        text-align: right;\n",
              "    }\n",
              "</style>\n",
              "<table border=\"1\" class=\"dataframe\">\n",
              "  <thead>\n",
              "    <tr style=\"text-align: right;\">\n",
              "      <th></th>\n",
              "      <th>id</th>\n",
              "      <th>name</th>\n",
              "      <th>host_id</th>\n",
              "      <th>host_name</th>\n",
              "      <th>neighbourhood_group</th>\n",
              "      <th>neighbourhood</th>\n",
              "      <th>latitude</th>\n",
              "      <th>longitude</th>\n",
              "      <th>room_type</th>\n",
              "      <th>price</th>\n",
              "      <th>minimum_nights</th>\n",
              "      <th>number_of_reviews</th>\n",
              "      <th>last_review</th>\n",
              "      <th>reviews_per_month</th>\n",
              "      <th>calculated_host_listings_count</th>\n",
              "      <th>availability_365</th>\n",
              "      <th>above_average</th>\n",
              "    </tr>\n",
              "  </thead>\n",
              "  <tbody>\n",
              "    <tr>\n",
              "      <th>0</th>\n",
              "      <td>2539</td>\n",
              "      <td>Clean &amp; quiet apt home by the park</td>\n",
              "      <td>2787</td>\n",
              "      <td>John</td>\n",
              "      <td>Brooklyn</td>\n",
              "      <td>Kensington</td>\n",
              "      <td>40.64749</td>\n",
              "      <td>-73.97237</td>\n",
              "      <td>Private room</td>\n",
              "      <td>149</td>\n",
              "      <td>1</td>\n",
              "      <td>9</td>\n",
              "      <td>2018-10-19</td>\n",
              "      <td>0.21</td>\n",
              "      <td>6</td>\n",
              "      <td>365</td>\n",
              "      <td>0</td>\n",
              "    </tr>\n",
              "    <tr>\n",
              "      <th>1</th>\n",
              "      <td>2595</td>\n",
              "      <td>Skylit Midtown Castle</td>\n",
              "      <td>2845</td>\n",
              "      <td>Jennifer</td>\n",
              "      <td>Manhattan</td>\n",
              "      <td>Midtown</td>\n",
              "      <td>40.75362</td>\n",
              "      <td>-73.98377</td>\n",
              "      <td>Entire home/apt</td>\n",
              "      <td>225</td>\n",
              "      <td>1</td>\n",
              "      <td>45</td>\n",
              "      <td>2019-05-21</td>\n",
              "      <td>0.38</td>\n",
              "      <td>2</td>\n",
              "      <td>355</td>\n",
              "      <td>1</td>\n",
              "    </tr>\n",
              "    <tr>\n",
              "      <th>2</th>\n",
              "      <td>3647</td>\n",
              "      <td>THE VILLAGE OF HARLEM....NEW YORK !</td>\n",
              "      <td>4632</td>\n",
              "      <td>Elisabeth</td>\n",
              "      <td>Manhattan</td>\n",
              "      <td>Harlem</td>\n",
              "      <td>40.80902</td>\n",
              "      <td>-73.94190</td>\n",
              "      <td>Private room</td>\n",
              "      <td>150</td>\n",
              "      <td>3</td>\n",
              "      <td>0</td>\n",
              "      <td>NaN</td>\n",
              "      <td>0.00</td>\n",
              "      <td>1</td>\n",
              "      <td>365</td>\n",
              "      <td>0</td>\n",
              "    </tr>\n",
              "    <tr>\n",
              "      <th>3</th>\n",
              "      <td>3831</td>\n",
              "      <td>Cozy Entire Floor of Brownstone</td>\n",
              "      <td>4869</td>\n",
              "      <td>LisaRoxanne</td>\n",
              "      <td>Brooklyn</td>\n",
              "      <td>Clinton Hill</td>\n",
              "      <td>40.68514</td>\n",
              "      <td>-73.95976</td>\n",
              "      <td>Entire home/apt</td>\n",
              "      <td>89</td>\n",
              "      <td>1</td>\n",
              "      <td>270</td>\n",
              "      <td>2019-07-05</td>\n",
              "      <td>4.64</td>\n",
              "      <td>1</td>\n",
              "      <td>194</td>\n",
              "      <td>0</td>\n",
              "    </tr>\n",
              "    <tr>\n",
              "      <th>4</th>\n",
              "      <td>5022</td>\n",
              "      <td>Entire Apt: Spacious Studio/Loft by central park</td>\n",
              "      <td>7192</td>\n",
              "      <td>Laura</td>\n",
              "      <td>Manhattan</td>\n",
              "      <td>East Harlem</td>\n",
              "      <td>40.79851</td>\n",
              "      <td>-73.94399</td>\n",
              "      <td>Entire home/apt</td>\n",
              "      <td>80</td>\n",
              "      <td>10</td>\n",
              "      <td>9</td>\n",
              "      <td>2018-11-19</td>\n",
              "      <td>0.10</td>\n",
              "      <td>1</td>\n",
              "      <td>0</td>\n",
              "      <td>0</td>\n",
              "    </tr>\n",
              "  </tbody>\n",
              "</table>\n",
              "</div>"
            ],
            "text/plain": [
              "     id  ... above_average\n",
              "0  2539  ...             0\n",
              "1  2595  ...             1\n",
              "2  3647  ...             0\n",
              "3  3831  ...             0\n",
              "4  5022  ...             0\n",
              "\n",
              "[5 rows x 17 columns]"
            ]
          },
          "metadata": {},
          "execution_count": 60
        }
      ]
    },
    {
      "cell_type": "code",
      "metadata": {
        "id": "PVTFnDyd7_VB"
      },
      "source": [
        "data_class = data_class.drop(['price'], axis=1)"
      ],
      "execution_count": 61,
      "outputs": []
    },
    {
      "cell_type": "code",
      "metadata": {
        "id": "2gBNWbxd8JqI"
      },
      "source": [
        "# Splitting the df into train and test \n",
        "df_full_train, df_test = train_test_split(data_class, test_size=0.2, random_state=42)\n",
        "# Splitting the full train df into train and validation dfs\n",
        "df_train, df_val = train_test_split(df_full_train, test_size=0.25, random_state=42)\n",
        "\n",
        "df_train = df_train.reset_index(drop=True)\n",
        "df_val = df_val.reset_index(drop=True)\n",
        "df_test = df_test.reset_index(drop=True)"
      ],
      "execution_count": 62,
      "outputs": []
    },
    {
      "cell_type": "code",
      "metadata": {
        "id": "V7BauqxV8Qe6"
      },
      "source": [
        "y_train = df_train.above_average.values \n",
        "y_val = df_val.above_average.values \n",
        "y_test = df_test.above_average.values "
      ],
      "execution_count": 63,
      "outputs": []
    },
    {
      "cell_type": "code",
      "metadata": {
        "id": "sJHkkq6JN0_J"
      },
      "source": [
        "\n",
        "cat = ['neighbourhood_group', 'room_type']\n",
        "# numerical = ['latitude',\n",
        "# 'longitude',\n",
        "# 'minimum_nights',\n",
        "# 'number_of_reviews',\n",
        "# 'reviews_per_month',\n",
        "# 'calculated_host_listings_count',\n",
        "# 'availability_365']"
      ],
      "execution_count": 64,
      "outputs": []
    },
    {
      "cell_type": "code",
      "metadata": {
        "id": "eWJubaDDqEG7"
      },
      "source": [
        "def mutal_info_churn_score(series):\n",
        "  return round(mutual_info_score(series, df_train.above_average),2)"
      ],
      "execution_count": 65,
      "outputs": []
    },
    {
      "cell_type": "code",
      "metadata": {
        "colab": {
          "base_uri": "https://localhost:8080/"
        },
        "id": "uZzUrK8OQySI",
        "outputId": "16842154-80cd-4f21-99f5-1155b48b2492"
      },
      "source": [
        "mi = df_train[cat].apply(mutal_info_churn_score)\n",
        "mi.sort_values(ascending=False)"
      ],
      "execution_count": 66,
      "outputs": [
        {
          "output_type": "execute_result",
          "data": {
            "text/plain": [
              "room_type              0.14\n",
              "neighbourhood_group    0.05\n",
              "dtype: float64"
            ]
          },
          "metadata": {},
          "execution_count": 66
        }
      ]
    },
    {
      "cell_type": "code",
      "metadata": {
        "id": "nmMJ8YrH9QxO"
      },
      "source": [
        "del df_train['above_average']\n",
        "del df_val['above_average']\n",
        "del df_test['above_average']"
      ],
      "execution_count": 67,
      "outputs": []
    },
    {
      "cell_type": "markdown",
      "metadata": {
        "id": "kYvlglBRRqV8"
      },
      "source": [
        "### Question 4"
      ]
    },
    {
      "cell_type": "code",
      "metadata": {
        "id": "806BOKqtRQOW"
      },
      "source": [
        "from sklearn.linear_model import LogisticRegression\n",
        "from sklearn.feature_extraction import DictVectorizer\n",
        "from sklearn.model_selection import cross_val_score"
      ],
      "execution_count": 68,
      "outputs": []
    },
    {
      "cell_type": "code",
      "metadata": {
        "id": "ahwo1-n298kJ"
      },
      "source": [
        "cat = ['neighbourhood_group', 'room_type']\n",
        "numerical = ['latitude',\n",
        "'longitude',\n",
        "'minimum_nights',\n",
        "'number_of_reviews',\n",
        "'reviews_per_month',\n",
        "'calculated_host_listings_count',\n",
        "'availability_365']"
      ],
      "execution_count": 69,
      "outputs": []
    },
    {
      "cell_type": "code",
      "metadata": {
        "id": "PDSf-xLXRzWK"
      },
      "source": [
        "train_dicts = df_train[cat + numerical].to_dict(orient='records')"
      ],
      "execution_count": 70,
      "outputs": []
    },
    {
      "cell_type": "code",
      "metadata": {
        "id": "uOQdv66XSdqV"
      },
      "source": [
        "dv = DictVectorizer(sparse=False)"
      ],
      "execution_count": 71,
      "outputs": []
    },
    {
      "cell_type": "code",
      "metadata": {
        "colab": {
          "base_uri": "https://localhost:8080/"
        },
        "id": "OqBgWJ4xSvhv",
        "outputId": "41e94873-c76d-4d66-fa98-0363d07b9134"
      },
      "source": [
        "dv.fit(train_dicts)"
      ],
      "execution_count": 72,
      "outputs": [
        {
          "output_type": "execute_result",
          "data": {
            "text/plain": [
              "DictVectorizer(dtype=<class 'numpy.float64'>, separator='=', sort=True,\n",
              "               sparse=False)"
            ]
          },
          "metadata": {},
          "execution_count": 72
        }
      ]
    },
    {
      "cell_type": "code",
      "metadata": {
        "colab": {
          "base_uri": "https://localhost:8080/"
        },
        "id": "iW9THk4lS8lx",
        "outputId": "e30880e9-d4ce-48ad-c1e3-4f00b54f64e0"
      },
      "source": [
        "X_train = dv.fit_transform(train_dicts)\n",
        "X_train.shape"
      ],
      "execution_count": 73,
      "outputs": [
        {
          "output_type": "execute_result",
          "data": {
            "text/plain": [
              "(29337, 15)"
            ]
          },
          "metadata": {},
          "execution_count": 73
        }
      ]
    },
    {
      "cell_type": "code",
      "metadata": {
        "colab": {
          "base_uri": "https://localhost:8080/"
        },
        "id": "TPaA5kPCTFln",
        "outputId": "7852f6a5-cf9d-43ab-aff8-c43696bd3221"
      },
      "source": [
        "model = LogisticRegression(solver='lbfgs', C=1.0, random_state=42)\n",
        "model.fit(X_train, y_train)"
      ],
      "execution_count": 74,
      "outputs": [
        {
          "output_type": "execute_result",
          "data": {
            "text/plain": [
              "LogisticRegression(C=1.0, class_weight=None, dual=False, fit_intercept=True,\n",
              "                   intercept_scaling=1, l1_ratio=None, max_iter=100,\n",
              "                   multi_class='auto', n_jobs=None, penalty='l2',\n",
              "                   random_state=42, solver='lbfgs', tol=0.0001, verbose=0,\n",
              "                   warm_start=False)"
            ]
          },
          "metadata": {},
          "execution_count": 74
        }
      ]
    },
    {
      "cell_type": "code",
      "metadata": {
        "id": "8a4RR1jkTUub"
      },
      "source": [
        "val_dicts = df_val[cat + numerical].to_dict(orient='records')\n",
        "X_val = dv.transform(val_dicts)\n",
        "y_pred =model.predict(X_val)"
      ],
      "execution_count": 75,
      "outputs": []
    },
    {
      "cell_type": "code",
      "metadata": {
        "colab": {
          "base_uri": "https://localhost:8080/"
        },
        "id": "3WSaEXAsULSo",
        "outputId": "9080069b-a9a6-4767-8106-428f1c597b61"
      },
      "source": [
        "#cross_val_score(y_pred, y_val)\n",
        "from sklearn.metrics import accuracy_score\n",
        "accuracy = round((accuracy_score(y_pred, y_val)),2)\n",
        "accuracy"
      ],
      "execution_count": 76,
      "outputs": [
        {
          "output_type": "execute_result",
          "data": {
            "text/plain": [
              "0.79"
            ]
          },
          "metadata": {},
          "execution_count": 76
        }
      ]
    },
    {
      "cell_type": "markdown",
      "metadata": {
        "id": "mGQlz6n-VbNR"
      },
      "source": [
        "### Question 5 "
      ]
    },
    {
      "cell_type": "code",
      "metadata": {
        "id": "P6ZVLFEy-yW1"
      },
      "source": [
        "orig_accuracy = accuracy"
      ],
      "execution_count": 77,
      "outputs": []
    },
    {
      "cell_type": "code",
      "metadata": {
        "id": "ojfQqqD7kL4f"
      },
      "source": [
        "features = ['neighbourhood_group',\n",
        "'room_type',\n",
        "'latitude',\n",
        "'longitude',\n",
        "'minimum_nights',\n",
        "'number_of_reviews',\n",
        "'reviews_per_month',\n",
        "'calculated_host_listings_count',\n",
        "'availability_365']\n"
      ],
      "execution_count": 78,
      "outputs": []
    },
    {
      "cell_type": "code",
      "metadata": {
        "colab": {
          "base_uri": "https://localhost:8080/"
        },
        "id": "8MmqZNaxUUQc",
        "outputId": "ea5a0379-edc3-41b4-d8cf-7e8f18f20ddf"
      },
      "source": [
        "for c in features:\n",
        "  subset = features.copy()\n",
        "  subset.remove(c)\n",
        "\n",
        "  train_dicts = df_train[subset].to_dict(orient='records')\n",
        "\n",
        "  dv = DictVectorizer(sparse=False)\n",
        "  dv.fit(train_dicts)\n",
        "\n",
        "  X_train = dv.fit_transform(train_dicts)\n",
        "  model = LogisticRegression(solver='lbfgs', C=1.0, random_state=42)\n",
        "  model.fit(X_train, y_train)\n",
        "\n",
        "  val_dicts = df_val[cat + numerical].to_dict(orient='records')\n",
        "  X_val = dv.transform(val_dicts)\n",
        "  y_pred =model.predict(X_val)\n",
        "\n",
        "  accuracy = round((accuracy_score(y_pred, y_val)),2)\n",
        "  score = accuracy - orig_accuracy\n",
        "  print (c, score )"
      ],
      "execution_count": 79,
      "outputs": [
        {
          "output_type": "stream",
          "name": "stdout",
          "text": [
            "neighbourhood_group -0.040000000000000036\n",
            "room_type -0.08000000000000007\n",
            "latitude 0.0\n",
            "longitude 0.0\n",
            "minimum_nights -0.010000000000000009\n",
            "number_of_reviews 0.0\n",
            "reviews_per_month -0.010000000000000009\n",
            "calculated_host_listings_count 0.0\n",
            "availability_365 -0.010000000000000009\n"
          ]
        }
      ]
    },
    {
      "cell_type": "markdown",
      "metadata": {
        "id": "-TMwPmLCCIMt"
      },
      "source": [
        "### Question 6 "
      ]
    },
    {
      "cell_type": "code",
      "metadata": {
        "id": "EygKgAyMmAV0"
      },
      "source": [
        "data = df.copy()\n",
        "\n",
        "data['price'] = np.log1p(data['price'])"
      ],
      "execution_count": 80,
      "outputs": []
    },
    {
      "cell_type": "code",
      "metadata": {
        "id": "KGYtHcy6CeqC"
      },
      "source": [
        "# Splitting the df into train and test \n",
        "df_full_train, df_test = train_test_split(data, test_size=0.2, random_state=42)\n",
        "# Splitting the full train df into train and validation dfs\n",
        "df_train, df_val = train_test_split(df_full_train, test_size=0.25, random_state=42)\n",
        "\n",
        "df_train = df_train.reset_index(drop=True)\n",
        "df_val = df_val.reset_index(drop=True)\n",
        "df_test = df_test.reset_index(drop=True)"
      ],
      "execution_count": 81,
      "outputs": []
    },
    {
      "cell_type": "code",
      "metadata": {
        "id": "aw8X3a7JCl3A"
      },
      "source": [
        "y_train = df_train.price.values \n",
        "y_val = df_val.price.values \n",
        "y_test = df_test.price.values "
      ],
      "execution_count": 82,
      "outputs": []
    },
    {
      "cell_type": "code",
      "metadata": {
        "id": "r8FkAcKSCspM"
      },
      "source": [
        "del df_train['price']\n",
        "del df_val['price']\n",
        "del df_test['price']"
      ],
      "execution_count": 83,
      "outputs": []
    },
    {
      "cell_type": "code",
      "metadata": {
        "id": "feSfwR-KCvtQ"
      },
      "source": [
        "  train_dicts = df_train[subset].to_dict(orient='records')\n",
        "\n",
        "  dv = DictVectorizer(sparse=False)\n",
        "  dv.fit(train_dicts)\n",
        "\n",
        "  X_train = dv.fit_transform(train_dicts)\n",
        "  \n",
        "  val_dicts = df_val[cat + numerical].to_dict(orient='records')\n",
        "  X_val = dv.transform(val_dicts)\n"
      ],
      "execution_count": 84,
      "outputs": []
    },
    {
      "cell_type": "code",
      "metadata": {
        "id": "9t7wiaAPEVTW"
      },
      "source": [
        "from sklearn.linear_model import Ridge\n",
        "from sklearn.metrics import mean_squared_error"
      ],
      "execution_count": 85,
      "outputs": []
    },
    {
      "cell_type": "code",
      "metadata": {
        "colab": {
          "base_uri": "https://localhost:8080/"
        },
        "id": "uiMC6ipNEP6M",
        "outputId": "f668d208-6370-47df-fa5d-cfecb8f45a4c"
      },
      "source": [
        "for a in [0,0.01, 0.1, 1, 10]:\n",
        "  model = Ridge(alpha=a, random_state=42)\n",
        "  model.fit(X_train, y_train)\n",
        "\n",
        "  y_pred =model.predict(X_val)\n",
        "\n",
        "  score = np.sqrt(mean_squared_error(y_val, y_pred))\n",
        "\n",
        "  print (a, round(score, 3))"
      ],
      "execution_count": 86,
      "outputs": [
        {
          "output_type": "stream",
          "name": "stdout",
          "text": [
            "0 0.506\n",
            "0.01 0.506\n",
            "0.1 0.506\n",
            "1 0.506\n",
            "10 0.506\n"
          ]
        }
      ]
    },
    {
      "cell_type": "code",
      "metadata": {
        "id": "pl-YMYa_E2kQ"
      },
      "source": [
        ""
      ],
      "execution_count": 86,
      "outputs": []
    }
  ]
}