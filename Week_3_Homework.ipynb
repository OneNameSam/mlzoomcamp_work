{
  "nbformat": 4,
  "nbformat_minor": 0,
  "metadata": {
    "colab": {
      "name": "Week 3 Homework.ipynb",
      "provenance": [],
      "collapsed_sections": [],
      "authorship_tag": "ABX9TyOeLOjHSzhJT4XeMxTLJ0+C",
      "include_colab_link": true
    },
    "kernelspec": {
      "name": "python3",
      "display_name": "Python 3"
    },
    "language_info": {
      "name": "python"
    }
  },
  "cells": [
    {
      "cell_type": "markdown",
      "metadata": {
        "id": "view-in-github",
        "colab_type": "text"
      },
      "source": [
        "<a href=\"https://colab.research.google.com/github/OneNameSam/mlzoomcamp_work/blob/main/Week_3_Homework.ipynb\" target=\"_parent\"><img src=\"https://colab.research.google.com/assets/colab-badge.svg\" alt=\"Open In Colab\"/></a>"
      ]
    },
    {
      "cell_type": "code",
      "metadata": {
        "id": "ljl64EIVHtTO"
      },
      "source": [
        "import pandas as pd \n",
        "import numpy as np\n",
        "import matplotlib.pyplot as plt"
      ],
      "execution_count": 43,
      "outputs": []
    },
    {
      "cell_type": "code",
      "metadata": {
        "id": "Y7d0_J7UHxXU"
      },
      "source": [
        "features = ['neighbourhood_group',\n",
        "'room_type',\n",
        "'latitude',\n",
        "'longitude',\n",
        "'price',\n",
        "'minimum_nights',\n",
        "'number_of_reviews',\n",
        "'reviews_per_month',\n",
        "'calculated_host_listings_count',\n",
        "'availability_365']\n"
      ],
      "execution_count": 44,
      "outputs": []
    },
    {
      "cell_type": "code",
      "metadata": {
        "id": "ygnuSKHiH57E"
      },
      "source": [
        "url = 'https://raw.githubusercontent.com/alexeygrigorev/datasets/master/AB_NYC_2019.csv'"
      ],
      "execution_count": 45,
      "outputs": []
    },
    {
      "cell_type": "code",
      "metadata": {
        "id": "3I-5CuseH7ON"
      },
      "source": [
        "df = pd.read_csv(url)"
      ],
      "execution_count": 46,
      "outputs": []
    },
    {
      "cell_type": "code",
      "metadata": {
        "colab": {
          "base_uri": "https://localhost:8080/"
        },
        "id": "61AVqTzwKpPS",
        "outputId": "793a3d80-4808-49da-aaa1-94f019323c07"
      },
      "source": [
        "df = df[features].fillna(0)\n",
        "df.isnull().sum()"
      ],
      "execution_count": 47,
      "outputs": [
        {
          "output_type": "execute_result",
          "data": {
            "text/plain": [
              "neighbourhood_group               0\n",
              "room_type                         0\n",
              "latitude                          0\n",
              "longitude                         0\n",
              "price                             0\n",
              "minimum_nights                    0\n",
              "number_of_reviews                 0\n",
              "reviews_per_month                 0\n",
              "calculated_host_listings_count    0\n",
              "availability_365                  0\n",
              "dtype: int64"
            ]
          },
          "metadata": {},
          "execution_count": 47
        }
      ]
    },
    {
      "cell_type": "code",
      "metadata": {
        "id": "Gu5P5uD7QF4G"
      },
      "source": [
        "df['above_average'] = df.price >= 152 \n"
      ],
      "execution_count": 48,
      "outputs": []
    },
    {
      "cell_type": "code",
      "metadata": {
        "colab": {
          "base_uri": "https://localhost:8080/"
        },
        "id": "7SvKAc1TIEzn",
        "outputId": "ac13daaa-0575-40ea-c31e-7aa758a9f72e"
      },
      "source": [
        "df.columns"
      ],
      "execution_count": 49,
      "outputs": [
        {
          "output_type": "execute_result",
          "data": {
            "text/plain": [
              "Index(['neighbourhood_group', 'room_type', 'latitude', 'longitude', 'price',\n",
              "       'minimum_nights', 'number_of_reviews', 'reviews_per_month',\n",
              "       'calculated_host_listings_count', 'availability_365', 'above_average'],\n",
              "      dtype='object')"
            ]
          },
          "metadata": {},
          "execution_count": 49
        }
      ]
    },
    {
      "cell_type": "markdown",
      "metadata": {
        "id": "rrdwXZUkIkSF"
      },
      "source": [
        "#### Question 1 "
      ]
    },
    {
      "cell_type": "code",
      "metadata": {
        "colab": {
          "base_uri": "https://localhost:8080/"
        },
        "id": "BACtPSUIIkCx",
        "outputId": "e3c53e0c-37bb-42fc-e949-15753b5ab14d"
      },
      "source": [
        "df.neighbourhood_group.value_counts()"
      ],
      "execution_count": 50,
      "outputs": [
        {
          "output_type": "execute_result",
          "data": {
            "text/plain": [
              "Manhattan        21661\n",
              "Brooklyn         20104\n",
              "Queens            5666\n",
              "Bronx             1091\n",
              "Staten Island      373\n",
              "Name: neighbourhood_group, dtype: int64"
            ]
          },
          "metadata": {},
          "execution_count": 50
        }
      ]
    },
    {
      "cell_type": "code",
      "metadata": {
        "id": "7MHoJaGwIqvd"
      },
      "source": [
        "from sklearn.model_selection import train_test_split"
      ],
      "execution_count": 51,
      "outputs": []
    },
    {
      "cell_type": "code",
      "metadata": {
        "id": "rNJaqQYLI1PX"
      },
      "source": [
        "# Splitting the df into train and test \n",
        "df_full_train, df_test = train_test_split(df, test_size=0.2, random_state=42)\n",
        "# Splitting the full train df into train and validation dfs\n",
        "df_train, df_val = train_test_split(df_full_train, test_size=0.25, random_state=42)\n",
        "\n",
        "df_train = df_train.reset_index(drop=True)\n",
        "df_val = df_val.reset_index(drop=True)\n",
        "df_test = df_test.reset_index(drop=True)"
      ],
      "execution_count": 52,
      "outputs": []
    },
    {
      "cell_type": "code",
      "metadata": {
        "id": "MG5vhJEfJK-d"
      },
      "source": [
        "y_train = df_train.price.values \n",
        "y_val = df_val.price.values \n",
        "y_test = df_test.price.values "
      ],
      "execution_count": 53,
      "outputs": []
    },
    {
      "cell_type": "code",
      "metadata": {
        "id": "m084GsnxJLfW"
      },
      "source": [
        "del df_train['price']\n",
        "del df_val['price']\n",
        "del df_test['price']"
      ],
      "execution_count": 54,
      "outputs": []
    },
    {
      "cell_type": "markdown",
      "metadata": {
        "id": "X8zy9mhvJ6Wx"
      },
      "source": [
        "#### Question 2 "
      ]
    },
    {
      "cell_type": "code",
      "metadata": {
        "id": "c_e1gBOwJwok"
      },
      "source": [
        "#df_full_train[numerical].corrwith(df_full_train.churn).abs()"
      ],
      "execution_count": 55,
      "outputs": []
    },
    {
      "cell_type": "code",
      "metadata": {
        "colab": {
          "base_uri": "https://localhost:8080/",
          "height": 348
        },
        "id": "GW4KJdajKi7m",
        "outputId": "95df1698-7e75-4334-f587-97f88dd65bbf"
      },
      "source": [
        "corrMatrix = df.corr().abs()\n",
        "display (corrMatrix)"
      ],
      "execution_count": 56,
      "outputs": [
        {
          "output_type": "display_data",
          "data": {
            "text/html": [
              "<div>\n",
              "<style scoped>\n",
              "    .dataframe tbody tr th:only-of-type {\n",
              "        vertical-align: middle;\n",
              "    }\n",
              "\n",
              "    .dataframe tbody tr th {\n",
              "        vertical-align: top;\n",
              "    }\n",
              "\n",
              "    .dataframe thead th {\n",
              "        text-align: right;\n",
              "    }\n",
              "</style>\n",
              "<table border=\"1\" class=\"dataframe\">\n",
              "  <thead>\n",
              "    <tr style=\"text-align: right;\">\n",
              "      <th></th>\n",
              "      <th>latitude</th>\n",
              "      <th>longitude</th>\n",
              "      <th>price</th>\n",
              "      <th>minimum_nights</th>\n",
              "      <th>number_of_reviews</th>\n",
              "      <th>reviews_per_month</th>\n",
              "      <th>calculated_host_listings_count</th>\n",
              "      <th>availability_365</th>\n",
              "      <th>above_average</th>\n",
              "    </tr>\n",
              "  </thead>\n",
              "  <tbody>\n",
              "    <tr>\n",
              "      <th>latitude</th>\n",
              "      <td>1.000000</td>\n",
              "      <td>0.084788</td>\n",
              "      <td>0.033939</td>\n",
              "      <td>0.024869</td>\n",
              "      <td>0.015389</td>\n",
              "      <td>0.018758</td>\n",
              "      <td>0.019517</td>\n",
              "      <td>0.010983</td>\n",
              "      <td>0.056385</td>\n",
              "    </tr>\n",
              "    <tr>\n",
              "      <th>longitude</th>\n",
              "      <td>0.084788</td>\n",
              "      <td>1.000000</td>\n",
              "      <td>0.150019</td>\n",
              "      <td>0.062747</td>\n",
              "      <td>0.059094</td>\n",
              "      <td>0.138516</td>\n",
              "      <td>0.114713</td>\n",
              "      <td>0.082731</td>\n",
              "      <td>0.267001</td>\n",
              "    </tr>\n",
              "    <tr>\n",
              "      <th>price</th>\n",
              "      <td>0.033939</td>\n",
              "      <td>0.150019</td>\n",
              "      <td>1.000000</td>\n",
              "      <td>0.042799</td>\n",
              "      <td>0.047954</td>\n",
              "      <td>0.050564</td>\n",
              "      <td>0.057472</td>\n",
              "      <td>0.081829</td>\n",
              "      <td>0.418150</td>\n",
              "    </tr>\n",
              "    <tr>\n",
              "      <th>minimum_nights</th>\n",
              "      <td>0.024869</td>\n",
              "      <td>0.062747</td>\n",
              "      <td>0.042799</td>\n",
              "      <td>1.000000</td>\n",
              "      <td>0.080116</td>\n",
              "      <td>0.124905</td>\n",
              "      <td>0.127960</td>\n",
              "      <td>0.144303</td>\n",
              "      <td>0.034715</td>\n",
              "    </tr>\n",
              "    <tr>\n",
              "      <th>number_of_reviews</th>\n",
              "      <td>0.015389</td>\n",
              "      <td>0.059094</td>\n",
              "      <td>0.047954</td>\n",
              "      <td>0.080116</td>\n",
              "      <td>1.000000</td>\n",
              "      <td>0.589407</td>\n",
              "      <td>0.072376</td>\n",
              "      <td>0.172028</td>\n",
              "      <td>0.051785</td>\n",
              "    </tr>\n",
              "    <tr>\n",
              "      <th>reviews_per_month</th>\n",
              "      <td>0.018758</td>\n",
              "      <td>0.138516</td>\n",
              "      <td>0.050564</td>\n",
              "      <td>0.124905</td>\n",
              "      <td>0.589407</td>\n",
              "      <td>1.000000</td>\n",
              "      <td>0.047312</td>\n",
              "      <td>0.163732</td>\n",
              "      <td>0.056040</td>\n",
              "    </tr>\n",
              "    <tr>\n",
              "      <th>calculated_host_listings_count</th>\n",
              "      <td>0.019517</td>\n",
              "      <td>0.114713</td>\n",
              "      <td>0.057472</td>\n",
              "      <td>0.127960</td>\n",
              "      <td>0.072376</td>\n",
              "      <td>0.047312</td>\n",
              "      <td>1.000000</td>\n",
              "      <td>0.225701</td>\n",
              "      <td>0.170075</td>\n",
              "    </tr>\n",
              "    <tr>\n",
              "      <th>availability_365</th>\n",
              "      <td>0.010983</td>\n",
              "      <td>0.082731</td>\n",
              "      <td>0.081829</td>\n",
              "      <td>0.144303</td>\n",
              "      <td>0.172028</td>\n",
              "      <td>0.163732</td>\n",
              "      <td>0.225701</td>\n",
              "      <td>1.000000</td>\n",
              "      <td>0.104255</td>\n",
              "    </tr>\n",
              "    <tr>\n",
              "      <th>above_average</th>\n",
              "      <td>0.056385</td>\n",
              "      <td>0.267001</td>\n",
              "      <td>0.418150</td>\n",
              "      <td>0.034715</td>\n",
              "      <td>0.051785</td>\n",
              "      <td>0.056040</td>\n",
              "      <td>0.170075</td>\n",
              "      <td>0.104255</td>\n",
              "      <td>1.000000</td>\n",
              "    </tr>\n",
              "  </tbody>\n",
              "</table>\n",
              "</div>"
            ],
            "text/plain": [
              "                                latitude  ...  above_average\n",
              "latitude                        1.000000  ...       0.056385\n",
              "longitude                       0.084788  ...       0.267001\n",
              "price                           0.033939  ...       0.418150\n",
              "minimum_nights                  0.024869  ...       0.034715\n",
              "number_of_reviews               0.015389  ...       0.051785\n",
              "reviews_per_month               0.018758  ...       0.056040\n",
              "calculated_host_listings_count  0.019517  ...       0.170075\n",
              "availability_365                0.010983  ...       0.104255\n",
              "above_average                   0.056385  ...       1.000000\n",
              "\n",
              "[9 rows x 9 columns]"
            ]
          },
          "metadata": {}
        }
      ]
    },
    {
      "cell_type": "code",
      "metadata": {
        "id": "K8VEsS47LLAi"
      },
      "source": [
        "#df['above_average'] = df.price >= 152 "
      ],
      "execution_count": 57,
      "outputs": []
    },
    {
      "cell_type": "code",
      "metadata": {
        "colab": {
          "base_uri": "https://localhost:8080/",
          "height": 609
        },
        "id": "yxp_NsIwNmaG",
        "outputId": "9d7cd8e9-ee98-4d06-aa7c-78ca09b89cb7"
      },
      "source": [
        "df"
      ],
      "execution_count": 58,
      "outputs": [
        {
          "output_type": "execute_result",
          "data": {
            "text/html": [
              "<div>\n",
              "<style scoped>\n",
              "    .dataframe tbody tr th:only-of-type {\n",
              "        vertical-align: middle;\n",
              "    }\n",
              "\n",
              "    .dataframe tbody tr th {\n",
              "        vertical-align: top;\n",
              "    }\n",
              "\n",
              "    .dataframe thead th {\n",
              "        text-align: right;\n",
              "    }\n",
              "</style>\n",
              "<table border=\"1\" class=\"dataframe\">\n",
              "  <thead>\n",
              "    <tr style=\"text-align: right;\">\n",
              "      <th></th>\n",
              "      <th>neighbourhood_group</th>\n",
              "      <th>room_type</th>\n",
              "      <th>latitude</th>\n",
              "      <th>longitude</th>\n",
              "      <th>price</th>\n",
              "      <th>minimum_nights</th>\n",
              "      <th>number_of_reviews</th>\n",
              "      <th>reviews_per_month</th>\n",
              "      <th>calculated_host_listings_count</th>\n",
              "      <th>availability_365</th>\n",
              "      <th>above_average</th>\n",
              "    </tr>\n",
              "  </thead>\n",
              "  <tbody>\n",
              "    <tr>\n",
              "      <th>0</th>\n",
              "      <td>Brooklyn</td>\n",
              "      <td>Private room</td>\n",
              "      <td>40.64749</td>\n",
              "      <td>-73.97237</td>\n",
              "      <td>149</td>\n",
              "      <td>1</td>\n",
              "      <td>9</td>\n",
              "      <td>0.21</td>\n",
              "      <td>6</td>\n",
              "      <td>365</td>\n",
              "      <td>False</td>\n",
              "    </tr>\n",
              "    <tr>\n",
              "      <th>1</th>\n",
              "      <td>Manhattan</td>\n",
              "      <td>Entire home/apt</td>\n",
              "      <td>40.75362</td>\n",
              "      <td>-73.98377</td>\n",
              "      <td>225</td>\n",
              "      <td>1</td>\n",
              "      <td>45</td>\n",
              "      <td>0.38</td>\n",
              "      <td>2</td>\n",
              "      <td>355</td>\n",
              "      <td>True</td>\n",
              "    </tr>\n",
              "    <tr>\n",
              "      <th>2</th>\n",
              "      <td>Manhattan</td>\n",
              "      <td>Private room</td>\n",
              "      <td>40.80902</td>\n",
              "      <td>-73.94190</td>\n",
              "      <td>150</td>\n",
              "      <td>3</td>\n",
              "      <td>0</td>\n",
              "      <td>0.00</td>\n",
              "      <td>1</td>\n",
              "      <td>365</td>\n",
              "      <td>False</td>\n",
              "    </tr>\n",
              "    <tr>\n",
              "      <th>3</th>\n",
              "      <td>Brooklyn</td>\n",
              "      <td>Entire home/apt</td>\n",
              "      <td>40.68514</td>\n",
              "      <td>-73.95976</td>\n",
              "      <td>89</td>\n",
              "      <td>1</td>\n",
              "      <td>270</td>\n",
              "      <td>4.64</td>\n",
              "      <td>1</td>\n",
              "      <td>194</td>\n",
              "      <td>False</td>\n",
              "    </tr>\n",
              "    <tr>\n",
              "      <th>4</th>\n",
              "      <td>Manhattan</td>\n",
              "      <td>Entire home/apt</td>\n",
              "      <td>40.79851</td>\n",
              "      <td>-73.94399</td>\n",
              "      <td>80</td>\n",
              "      <td>10</td>\n",
              "      <td>9</td>\n",
              "      <td>0.10</td>\n",
              "      <td>1</td>\n",
              "      <td>0</td>\n",
              "      <td>False</td>\n",
              "    </tr>\n",
              "    <tr>\n",
              "      <th>...</th>\n",
              "      <td>...</td>\n",
              "      <td>...</td>\n",
              "      <td>...</td>\n",
              "      <td>...</td>\n",
              "      <td>...</td>\n",
              "      <td>...</td>\n",
              "      <td>...</td>\n",
              "      <td>...</td>\n",
              "      <td>...</td>\n",
              "      <td>...</td>\n",
              "      <td>...</td>\n",
              "    </tr>\n",
              "    <tr>\n",
              "      <th>48890</th>\n",
              "      <td>Brooklyn</td>\n",
              "      <td>Private room</td>\n",
              "      <td>40.67853</td>\n",
              "      <td>-73.94995</td>\n",
              "      <td>70</td>\n",
              "      <td>2</td>\n",
              "      <td>0</td>\n",
              "      <td>0.00</td>\n",
              "      <td>2</td>\n",
              "      <td>9</td>\n",
              "      <td>False</td>\n",
              "    </tr>\n",
              "    <tr>\n",
              "      <th>48891</th>\n",
              "      <td>Brooklyn</td>\n",
              "      <td>Private room</td>\n",
              "      <td>40.70184</td>\n",
              "      <td>-73.93317</td>\n",
              "      <td>40</td>\n",
              "      <td>4</td>\n",
              "      <td>0</td>\n",
              "      <td>0.00</td>\n",
              "      <td>2</td>\n",
              "      <td>36</td>\n",
              "      <td>False</td>\n",
              "    </tr>\n",
              "    <tr>\n",
              "      <th>48892</th>\n",
              "      <td>Manhattan</td>\n",
              "      <td>Entire home/apt</td>\n",
              "      <td>40.81475</td>\n",
              "      <td>-73.94867</td>\n",
              "      <td>115</td>\n",
              "      <td>10</td>\n",
              "      <td>0</td>\n",
              "      <td>0.00</td>\n",
              "      <td>1</td>\n",
              "      <td>27</td>\n",
              "      <td>False</td>\n",
              "    </tr>\n",
              "    <tr>\n",
              "      <th>48893</th>\n",
              "      <td>Manhattan</td>\n",
              "      <td>Shared room</td>\n",
              "      <td>40.75751</td>\n",
              "      <td>-73.99112</td>\n",
              "      <td>55</td>\n",
              "      <td>1</td>\n",
              "      <td>0</td>\n",
              "      <td>0.00</td>\n",
              "      <td>6</td>\n",
              "      <td>2</td>\n",
              "      <td>False</td>\n",
              "    </tr>\n",
              "    <tr>\n",
              "      <th>48894</th>\n",
              "      <td>Manhattan</td>\n",
              "      <td>Private room</td>\n",
              "      <td>40.76404</td>\n",
              "      <td>-73.98933</td>\n",
              "      <td>90</td>\n",
              "      <td>7</td>\n",
              "      <td>0</td>\n",
              "      <td>0.00</td>\n",
              "      <td>1</td>\n",
              "      <td>23</td>\n",
              "      <td>False</td>\n",
              "    </tr>\n",
              "  </tbody>\n",
              "</table>\n",
              "<p>48895 rows × 11 columns</p>\n",
              "</div>"
            ],
            "text/plain": [
              "      neighbourhood_group        room_type  ...  availability_365  above_average\n",
              "0                Brooklyn     Private room  ...               365          False\n",
              "1               Manhattan  Entire home/apt  ...               355           True\n",
              "2               Manhattan     Private room  ...               365          False\n",
              "3                Brooklyn  Entire home/apt  ...               194          False\n",
              "4               Manhattan  Entire home/apt  ...                 0          False\n",
              "...                   ...              ...  ...               ...            ...\n",
              "48890            Brooklyn     Private room  ...                 9          False\n",
              "48891            Brooklyn     Private room  ...                36          False\n",
              "48892           Manhattan  Entire home/apt  ...                27          False\n",
              "48893           Manhattan      Shared room  ...                 2          False\n",
              "48894           Manhattan     Private room  ...                23          False\n",
              "\n",
              "[48895 rows x 11 columns]"
            ]
          },
          "metadata": {},
          "execution_count": 58
        }
      ]
    },
    {
      "cell_type": "markdown",
      "metadata": {
        "id": "es6XoGxvPB1h"
      },
      "source": [
        "### Question 3"
      ]
    },
    {
      "cell_type": "code",
      "metadata": {
        "id": "zEjlDbzgRc-Q"
      },
      "source": [
        "from sklearn.metrics import mutual_info_score"
      ],
      "execution_count": 59,
      "outputs": []
    },
    {
      "cell_type": "code",
      "metadata": {
        "id": "sJHkkq6JN0_J"
      },
      "source": [
        "df_train.dtypes\n",
        "categorical = ['neighbourhood_group', 'room_type']\n",
        "numerical = ['latitude',\n",
        "'longitude',\n",
        "'minimum_nights',\n",
        "'number_of_reviews',\n",
        "'reviews_per_month',\n",
        "'calculated_host_listings_count',\n",
        "'availability_365']"
      ],
      "execution_count": 60,
      "outputs": []
    },
    {
      "cell_type": "code",
      "metadata": {
        "id": "eWJubaDDqEG7"
      },
      "source": [
        "def mutal_info_churn_score(series):\n",
        "  return round(mutual_info_score(series, df_train.above_average),2)"
      ],
      "execution_count": 61,
      "outputs": []
    },
    {
      "cell_type": "code",
      "metadata": {
        "colab": {
          "base_uri": "https://localhost:8080/"
        },
        "id": "uZzUrK8OQySI",
        "outputId": "91377f4f-6b38-439b-83c3-fb00bcf9176d"
      },
      "source": [
        "mi = df_train[categorical].apply(mutal_info_churn_score)\n",
        "mi.sort_values(ascending=False)"
      ],
      "execution_count": 62,
      "outputs": [
        {
          "output_type": "execute_result",
          "data": {
            "text/plain": [
              "room_type              0.14\n",
              "neighbourhood_group    0.05\n",
              "dtype: float64"
            ]
          },
          "metadata": {},
          "execution_count": 62
        }
      ]
    },
    {
      "cell_type": "markdown",
      "metadata": {
        "id": "kYvlglBRRqV8"
      },
      "source": [
        "### Question 4"
      ]
    },
    {
      "cell_type": "code",
      "metadata": {
        "id": "806BOKqtRQOW"
      },
      "source": [
        "from sklearn.linear_model import LogisticRegression\n",
        "from sklearn.feature_extraction import DictVectorizer\n",
        "from sklearn.model_selection import cross_val_score"
      ],
      "execution_count": 63,
      "outputs": []
    },
    {
      "cell_type": "code",
      "metadata": {
        "id": "PDSf-xLXRzWK"
      },
      "source": [
        "train_dicts = df_train[categorical + numerical].to_dict(orient='records')"
      ],
      "execution_count": 64,
      "outputs": []
    },
    {
      "cell_type": "code",
      "metadata": {
        "colab": {
          "base_uri": "https://localhost:8080/"
        },
        "id": "Sp06LwT0SUZn",
        "outputId": "99d8d9bc-346e-4163-a11f-91dfea0c931a"
      },
      "source": [
        "train_dicts[0]"
      ],
      "execution_count": 65,
      "outputs": [
        {
          "output_type": "execute_result",
          "data": {
            "text/plain": [
              "{'availability_365': 50,\n",
              " 'calculated_host_listings_count': 13,\n",
              " 'latitude': 40.7276,\n",
              " 'longitude': -73.94495,\n",
              " 'minimum_nights': 3,\n",
              " 'neighbourhood_group': 'Brooklyn',\n",
              " 'number_of_reviews': 29,\n",
              " 'reviews_per_month': 0.7,\n",
              " 'room_type': 'Entire home/apt'}"
            ]
          },
          "metadata": {},
          "execution_count": 65
        }
      ]
    },
    {
      "cell_type": "code",
      "metadata": {
        "id": "uOQdv66XSdqV"
      },
      "source": [
        "dv = DictVectorizer(sparse=False)"
      ],
      "execution_count": 66,
      "outputs": []
    },
    {
      "cell_type": "code",
      "metadata": {
        "colab": {
          "base_uri": "https://localhost:8080/"
        },
        "id": "OqBgWJ4xSvhv",
        "outputId": "351a74b7-9073-435b-c744-b2a37ccae7d4"
      },
      "source": [
        "dv.fit(train_dicts)"
      ],
      "execution_count": 67,
      "outputs": [
        {
          "output_type": "execute_result",
          "data": {
            "text/plain": [
              "DictVectorizer(dtype=<class 'numpy.float64'>, separator='=', sort=True,\n",
              "               sparse=False)"
            ]
          },
          "metadata": {},
          "execution_count": 67
        }
      ]
    },
    {
      "cell_type": "code",
      "metadata": {
        "colab": {
          "base_uri": "https://localhost:8080/"
        },
        "id": "aIbKh2uhS0Lr",
        "outputId": "b424cccd-0f9f-47ca-c2f6-f036fdca24b1"
      },
      "source": [
        "dv.get_feature_names()"
      ],
      "execution_count": 68,
      "outputs": [
        {
          "output_type": "execute_result",
          "data": {
            "text/plain": [
              "['availability_365',\n",
              " 'calculated_host_listings_count',\n",
              " 'latitude',\n",
              " 'longitude',\n",
              " 'minimum_nights',\n",
              " 'neighbourhood_group=Bronx',\n",
              " 'neighbourhood_group=Brooklyn',\n",
              " 'neighbourhood_group=Manhattan',\n",
              " 'neighbourhood_group=Queens',\n",
              " 'neighbourhood_group=Staten Island',\n",
              " 'number_of_reviews',\n",
              " 'reviews_per_month',\n",
              " 'room_type=Entire home/apt',\n",
              " 'room_type=Private room',\n",
              " 'room_type=Shared room']"
            ]
          },
          "metadata": {},
          "execution_count": 68
        }
      ]
    },
    {
      "cell_type": "code",
      "metadata": {
        "colab": {
          "base_uri": "https://localhost:8080/"
        },
        "id": "iW9THk4lS8lx",
        "outputId": "dd1d93b4-d7d0-454f-eca4-d0d56f55385d"
      },
      "source": [
        "X_train = dv.fit_transform(train_dicts)\n",
        "X_train.shape"
      ],
      "execution_count": 69,
      "outputs": [
        {
          "output_type": "execute_result",
          "data": {
            "text/plain": [
              "(29337, 15)"
            ]
          },
          "metadata": {},
          "execution_count": 69
        }
      ]
    },
    {
      "cell_type": "code",
      "metadata": {
        "colab": {
          "base_uri": "https://localhost:8080/"
        },
        "id": "TPaA5kPCTFln",
        "outputId": "703cb11b-cb9d-460b-dd74-7425e8ccc3eb"
      },
      "source": [
        "model = LogisticRegression(solver='lbfgs', C=1.0, random_state=42)\n",
        "model.fit(X_train, y_train)"
      ],
      "execution_count": 70,
      "outputs": [
        {
          "output_type": "stream",
          "name": "stderr",
          "text": [
            "/usr/local/lib/python3.7/dist-packages/sklearn/linear_model/_logistic.py:940: ConvergenceWarning: lbfgs failed to converge (status=1):\n",
            "STOP: TOTAL NO. of ITERATIONS REACHED LIMIT.\n",
            "\n",
            "Increase the number of iterations (max_iter) or scale the data as shown in:\n",
            "    https://scikit-learn.org/stable/modules/preprocessing.html\n",
            "Please also refer to the documentation for alternative solver options:\n",
            "    https://scikit-learn.org/stable/modules/linear_model.html#logistic-regression\n",
            "  extra_warning_msg=_LOGISTIC_SOLVER_CONVERGENCE_MSG)\n"
          ]
        },
        {
          "output_type": "execute_result",
          "data": {
            "text/plain": [
              "LogisticRegression(C=1.0, class_weight=None, dual=False, fit_intercept=True,\n",
              "                   intercept_scaling=1, l1_ratio=None, max_iter=100,\n",
              "                   multi_class='auto', n_jobs=None, penalty='l2',\n",
              "                   random_state=42, solver='lbfgs', tol=0.0001, verbose=0,\n",
              "                   warm_start=False)"
            ]
          },
          "metadata": {},
          "execution_count": 70
        }
      ]
    },
    {
      "cell_type": "code",
      "metadata": {
        "id": "8a4RR1jkTUub"
      },
      "source": [
        "val_dicts = df_val[categorical + numerical].to_dict(orient='records')\n",
        "X_val = dv.transform(val_dicts)\n",
        "y_pred =model.predict(X_val)"
      ],
      "execution_count": 71,
      "outputs": []
    },
    {
      "cell_type": "code",
      "metadata": {
        "colab": {
          "base_uri": "https://localhost:8080/"
        },
        "id": "3WSaEXAsULSo",
        "outputId": "46541e64-c9b1-45ba-90f7-daae0c6d18df"
      },
      "source": [
        "#cross_val_score(y_pred, y_val)\n",
        "from sklearn import metrics\n",
        "main_accuracy = round((metrics.r2_score(y_pred, y_val)),2)\n",
        "main_accuracy"
      ],
      "execution_count": 72,
      "outputs": [
        {
          "output_type": "execute_result",
          "data": {
            "text/plain": [
              "-39.17"
            ]
          },
          "metadata": {},
          "execution_count": 72
        }
      ]
    },
    {
      "cell_type": "markdown",
      "metadata": {
        "id": "mGQlz6n-VbNR"
      },
      "source": [
        "### Question 5 "
      ]
    },
    {
      "cell_type": "code",
      "metadata": {
        "colab": {
          "base_uri": "https://localhost:8080/"
        },
        "id": "UDyNnBcwjqbY",
        "outputId": "2ffda17b-5609-4755-d113-8e52128c52f6"
      },
      "source": [
        "categorical + numerical\n"
      ],
      "execution_count": 73,
      "outputs": [
        {
          "output_type": "execute_result",
          "data": {
            "text/plain": [
              "['neighbourhood_group',\n",
              " 'room_type',\n",
              " 'latitude',\n",
              " 'longitude',\n",
              " 'minimum_nights',\n",
              " 'number_of_reviews',\n",
              " 'reviews_per_month',\n",
              " 'calculated_host_listings_count',\n",
              " 'availability_365']"
            ]
          },
          "metadata": {},
          "execution_count": 73
        }
      ]
    },
    {
      "cell_type": "code",
      "metadata": {
        "colab": {
          "base_uri": "https://localhost:8080/"
        },
        "id": "ojfQqqD7kL4f",
        "outputId": "05f2f18c-ee55-4bd7-b5b2-6d4a49a417e7"
      },
      "source": [
        "['neighbourhood_group',\n",
        "'room_type',\n",
        "'number_of_reviews',\n",
        "'reviews_per_month']"
      ],
      "execution_count": 74,
      "outputs": [
        {
          "output_type": "execute_result",
          "data": {
            "text/plain": [
              "['neighbourhood_group', 'room_type', 'number_of_reviews', 'reviews_per_month']"
            ]
          },
          "metadata": {},
          "execution_count": 74
        }
      ]
    },
    {
      "cell_type": "code",
      "metadata": {
        "colab": {
          "base_uri": "https://localhost:8080/"
        },
        "id": "8MmqZNaxUUQc",
        "outputId": "2e2ec797-4387-4ce5-a88e-2b1ad69bd500"
      },
      "source": [
        "focused_features_list = ['room_type',\n",
        " 'latitude',\n",
        " 'longitude',\n",
        " 'minimum_nights',\n",
        " 'number_of_reviews',\n",
        " 'reviews_per_month',\n",
        " 'calculated_host_listings_count',\n",
        " 'availability_365']\n",
        "\n",
        "train_dicts = df_train[focused_features_list].to_dict(orient='records')\n",
        "dv = DictVectorizer(sparse=False)\n",
        "dv.fit(train_dicts)\n",
        "X_train = dv.fit_transform(train_dicts)\n",
        "model = LogisticRegression(solver='lbfgs', C=1.0, random_state=42)\n",
        "model.fit(X_train, y_train)\n",
        "val_dicts = df_val[categorical + numerical].to_dict(orient='records')\n",
        "X_val = dv.transform(val_dicts)\n",
        "y_pred =model.predict(X_val)\n",
        "accuracy = round((metrics.r2_score(y_pred, y_val)),2)\n",
        "accuracy - main_accuracy"
      ],
      "execution_count": 75,
      "outputs": [
        {
          "output_type": "stream",
          "name": "stderr",
          "text": [
            "/usr/local/lib/python3.7/dist-packages/sklearn/linear_model/_logistic.py:940: ConvergenceWarning: lbfgs failed to converge (status=1):\n",
            "STOP: TOTAL NO. of ITERATIONS REACHED LIMIT.\n",
            "\n",
            "Increase the number of iterations (max_iter) or scale the data as shown in:\n",
            "    https://scikit-learn.org/stable/modules/preprocessing.html\n",
            "Please also refer to the documentation for alternative solver options:\n",
            "    https://scikit-learn.org/stable/modules/linear_model.html#logistic-regression\n",
            "  extra_warning_msg=_LOGISTIC_SOLVER_CONVERGENCE_MSG)\n"
          ]
        },
        {
          "output_type": "execute_result",
          "data": {
            "text/plain": [
              "3.8599999999999994"
            ]
          },
          "metadata": {},
          "execution_count": 75
        }
      ]
    },
    {
      "cell_type": "code",
      "metadata": {
        "colab": {
          "base_uri": "https://localhost:8080/"
        },
        "id": "bN8zqvCiU8C5",
        "outputId": "e4eb4ae8-d86b-4726-efee-175a6408fd41"
      },
      "source": [
        "focused_features_list = ['neighbourhood_group',\n",
        " 'latitude',\n",
        " 'longitude',\n",
        " 'minimum_nights',\n",
        " 'number_of_reviews',\n",
        " 'reviews_per_month',\n",
        " 'calculated_host_listings_count',\n",
        " 'availability_365']\n",
        "\n",
        "train_dicts = df_train[focused_features_list].to_dict(orient='records')\n",
        "dv = DictVectorizer(sparse=False)\n",
        "dv.fit(train_dicts)\n",
        "X_train = dv.fit_transform(train_dicts)\n",
        "model = LogisticRegression(solver='lbfgs', C=1.0, random_state=42)\n",
        "model.fit(X_train, y_train)\n",
        "val_dicts = df_val[categorical + numerical].to_dict(orient='records')\n",
        "X_val = dv.transform(val_dicts)\n",
        "y_pred =model.predict(X_val)\n",
        "accuracy = round((metrics.r2_score(y_pred, y_val)),2)\n",
        "accuracy - main_accuracy"
      ],
      "execution_count": 76,
      "outputs": [
        {
          "output_type": "stream",
          "name": "stderr",
          "text": [
            "/usr/local/lib/python3.7/dist-packages/sklearn/linear_model/_logistic.py:940: ConvergenceWarning: lbfgs failed to converge (status=1):\n",
            "STOP: TOTAL NO. of ITERATIONS REACHED LIMIT.\n",
            "\n",
            "Increase the number of iterations (max_iter) or scale the data as shown in:\n",
            "    https://scikit-learn.org/stable/modules/preprocessing.html\n",
            "Please also refer to the documentation for alternative solver options:\n",
            "    https://scikit-learn.org/stable/modules/linear_model.html#logistic-regression\n",
            "  extra_warning_msg=_LOGISTIC_SOLVER_CONVERGENCE_MSG)\n"
          ]
        },
        {
          "output_type": "execute_result",
          "data": {
            "text/plain": [
              "0.75"
            ]
          },
          "metadata": {},
          "execution_count": 76
        }
      ]
    },
    {
      "cell_type": "code",
      "metadata": {
        "colab": {
          "base_uri": "https://localhost:8080/"
        },
        "id": "U3cD4za8dA_N",
        "outputId": "6b0ecf33-5a0c-42ba-daa0-a404bc3c2e66"
      },
      "source": [
        "focused_features_list = ['neighbourhood_group',\n",
        "                         'room_type',\n",
        "                         'latitude',\n",
        " 'longitude',\n",
        " 'minimum_nights',\n",
        " 'reviews_per_month',\n",
        " 'calculated_host_listings_count',\n",
        " 'availability_365']\n",
        "\n",
        "train_dicts = df_train[focused_features_list].to_dict(orient='records')\n",
        "dv = DictVectorizer(sparse=False)\n",
        "dv.fit(train_dicts)\n",
        "X_train = dv.fit_transform(train_dicts)\n",
        "model = LogisticRegression(solver='lbfgs', C=1.0, random_state=42)\n",
        "model.fit(X_train, y_train)\n",
        "val_dicts = df_val[categorical + numerical].to_dict(orient='records')\n",
        "X_val = dv.transform(val_dicts)\n",
        "y_pred =model.predict(X_val)\n",
        "accuracy = round((metrics.r2_score(y_pred, y_val)),2)\n",
        "accuracy - main_accuracy"
      ],
      "execution_count": 77,
      "outputs": [
        {
          "output_type": "stream",
          "name": "stderr",
          "text": [
            "/usr/local/lib/python3.7/dist-packages/sklearn/linear_model/_logistic.py:940: ConvergenceWarning: lbfgs failed to converge (status=1):\n",
            "STOP: TOTAL NO. of ITERATIONS REACHED LIMIT.\n",
            "\n",
            "Increase the number of iterations (max_iter) or scale the data as shown in:\n",
            "    https://scikit-learn.org/stable/modules/preprocessing.html\n",
            "Please also refer to the documentation for alternative solver options:\n",
            "    https://scikit-learn.org/stable/modules/linear_model.html#logistic-regression\n",
            "  extra_warning_msg=_LOGISTIC_SOLVER_CONVERGENCE_MSG)\n"
          ]
        },
        {
          "output_type": "execute_result",
          "data": {
            "text/plain": [
              "0.0799999999999983"
            ]
          },
          "metadata": {},
          "execution_count": 77
        }
      ]
    },
    {
      "cell_type": "code",
      "metadata": {
        "colab": {
          "base_uri": "https://localhost:8080/"
        },
        "id": "EMO9a6pPlx2d",
        "outputId": "ac0c8f63-a17b-4424-e59b-aa1f34e8f94e"
      },
      "source": [
        "focused_features_list = ['neighbourhood_group',\n",
        "                         'room_type',\n",
        "                         'latitude',\n",
        " 'longitude',\n",
        " 'minimum_nights',\n",
        " 'number_of_reviews',\n",
        " 'calculated_host_listings_count',\n",
        " 'availability_365']\n",
        "\n",
        "train_dicts = df_train[focused_features_list].to_dict(orient='records')\n",
        "dv = DictVectorizer(sparse=False)\n",
        "dv.fit(train_dicts)\n",
        "X_train = dv.fit_transform(train_dicts)\n",
        "model = LogisticRegression(solver='lbfgs', C=1.0, random_state=42)\n",
        "model.fit(X_train, y_train)\n",
        "val_dicts = df_val[categorical + numerical].to_dict(orient='records')\n",
        "X_val = dv.transform(val_dicts)\n",
        "y_pred =model.predict(X_val)\n",
        "accuracy = round((metrics.r2_score(y_pred, y_val)),2)\n",
        "accuracy - main_accuracy"
      ],
      "execution_count": 78,
      "outputs": [
        {
          "output_type": "stream",
          "name": "stderr",
          "text": [
            "/usr/local/lib/python3.7/dist-packages/sklearn/linear_model/_logistic.py:940: ConvergenceWarning: lbfgs failed to converge (status=1):\n",
            "STOP: TOTAL NO. of ITERATIONS REACHED LIMIT.\n",
            "\n",
            "Increase the number of iterations (max_iter) or scale the data as shown in:\n",
            "    https://scikit-learn.org/stable/modules/preprocessing.html\n",
            "Please also refer to the documentation for alternative solver options:\n",
            "    https://scikit-learn.org/stable/modules/linear_model.html#logistic-regression\n",
            "  extra_warning_msg=_LOGISTIC_SOLVER_CONVERGENCE_MSG)\n"
          ]
        },
        {
          "output_type": "execute_result",
          "data": {
            "text/plain": [
              "1.1799999999999997"
            ]
          },
          "metadata": {},
          "execution_count": 78
        }
      ]
    },
    {
      "cell_type": "code",
      "metadata": {
        "id": "EygKgAyMmAV0"
      },
      "source": [
        ""
      ],
      "execution_count": 78,
      "outputs": []
    }
  ]
}