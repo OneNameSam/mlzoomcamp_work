{
  "nbformat": 4,
  "nbformat_minor": 0,
  "metadata": {
    "colab": {
      "name": "Week 2 Homework.ipynb",
      "provenance": [],
      "collapsed_sections": [],
      "authorship_tag": "ABX9TyNmFM+f4lgXkEDJr4yCv/OJ",
      "include_colab_link": true
    },
    "kernelspec": {
      "name": "python3",
      "display_name": "Python 3"
    },
    "language_info": {
      "name": "python"
    }
  },
  "cells": [
    {
      "cell_type": "markdown",
      "metadata": {
        "id": "view-in-github",
        "colab_type": "text"
      },
      "source": [
        "<a href=\"https://colab.research.google.com/github/OneNameSam/mlzoomcamp_work/blob/main/Week_2_Homework.ipynb\" target=\"_parent\"><img src=\"https://colab.research.google.com/assets/colab-badge.svg\" alt=\"Open In Colab\"/></a>"
      ]
    },
    {
      "cell_type": "code",
      "metadata": {
        "id": "etX0mTaJd9Dl"
      },
      "source": [
        "import pandas as pd\n",
        "import numpy as np\n",
        "import seaborn as sns\n",
        "from matplotlib import pyplot as plt"
      ],
      "execution_count": 40,
      "outputs": []
    },
    {
      "cell_type": "code",
      "metadata": {
        "id": "sGFOTWfUeKIf"
      },
      "source": [
        "#!wget 'https://raw.githubusercontent.com/alexeygrigorev/datasets/master/AB_NYC_2019.csv'"
      ],
      "execution_count": 41,
      "outputs": []
    },
    {
      "cell_type": "code",
      "metadata": {
        "colab": {
          "base_uri": "https://localhost:8080/",
          "height": 411
        },
        "id": "O-BA3wqCi5gy",
        "outputId": "e59b5f69-ca86-4df6-837a-4fa38956b7b2"
      },
      "source": [
        "df = pd.read_csv('https://raw.githubusercontent.com/alexeygrigorev/datasets/master/AB_NYC_2019.csv')\n",
        "df.head()"
      ],
      "execution_count": 42,
      "outputs": [
        {
          "output_type": "execute_result",
          "data": {
            "text/html": [
              "<div>\n",
              "<style scoped>\n",
              "    .dataframe tbody tr th:only-of-type {\n",
              "        vertical-align: middle;\n",
              "    }\n",
              "\n",
              "    .dataframe tbody tr th {\n",
              "        vertical-align: top;\n",
              "    }\n",
              "\n",
              "    .dataframe thead th {\n",
              "        text-align: right;\n",
              "    }\n",
              "</style>\n",
              "<table border=\"1\" class=\"dataframe\">\n",
              "  <thead>\n",
              "    <tr style=\"text-align: right;\">\n",
              "      <th></th>\n",
              "      <th>id</th>\n",
              "      <th>name</th>\n",
              "      <th>host_id</th>\n",
              "      <th>host_name</th>\n",
              "      <th>neighbourhood_group</th>\n",
              "      <th>neighbourhood</th>\n",
              "      <th>latitude</th>\n",
              "      <th>longitude</th>\n",
              "      <th>room_type</th>\n",
              "      <th>price</th>\n",
              "      <th>minimum_nights</th>\n",
              "      <th>number_of_reviews</th>\n",
              "      <th>last_review</th>\n",
              "      <th>reviews_per_month</th>\n",
              "      <th>calculated_host_listings_count</th>\n",
              "      <th>availability_365</th>\n",
              "    </tr>\n",
              "  </thead>\n",
              "  <tbody>\n",
              "    <tr>\n",
              "      <th>0</th>\n",
              "      <td>2539</td>\n",
              "      <td>Clean &amp; quiet apt home by the park</td>\n",
              "      <td>2787</td>\n",
              "      <td>John</td>\n",
              "      <td>Brooklyn</td>\n",
              "      <td>Kensington</td>\n",
              "      <td>40.64749</td>\n",
              "      <td>-73.97237</td>\n",
              "      <td>Private room</td>\n",
              "      <td>149</td>\n",
              "      <td>1</td>\n",
              "      <td>9</td>\n",
              "      <td>2018-10-19</td>\n",
              "      <td>0.21</td>\n",
              "      <td>6</td>\n",
              "      <td>365</td>\n",
              "    </tr>\n",
              "    <tr>\n",
              "      <th>1</th>\n",
              "      <td>2595</td>\n",
              "      <td>Skylit Midtown Castle</td>\n",
              "      <td>2845</td>\n",
              "      <td>Jennifer</td>\n",
              "      <td>Manhattan</td>\n",
              "      <td>Midtown</td>\n",
              "      <td>40.75362</td>\n",
              "      <td>-73.98377</td>\n",
              "      <td>Entire home/apt</td>\n",
              "      <td>225</td>\n",
              "      <td>1</td>\n",
              "      <td>45</td>\n",
              "      <td>2019-05-21</td>\n",
              "      <td>0.38</td>\n",
              "      <td>2</td>\n",
              "      <td>355</td>\n",
              "    </tr>\n",
              "    <tr>\n",
              "      <th>2</th>\n",
              "      <td>3647</td>\n",
              "      <td>THE VILLAGE OF HARLEM....NEW YORK !</td>\n",
              "      <td>4632</td>\n",
              "      <td>Elisabeth</td>\n",
              "      <td>Manhattan</td>\n",
              "      <td>Harlem</td>\n",
              "      <td>40.80902</td>\n",
              "      <td>-73.94190</td>\n",
              "      <td>Private room</td>\n",
              "      <td>150</td>\n",
              "      <td>3</td>\n",
              "      <td>0</td>\n",
              "      <td>NaN</td>\n",
              "      <td>NaN</td>\n",
              "      <td>1</td>\n",
              "      <td>365</td>\n",
              "    </tr>\n",
              "    <tr>\n",
              "      <th>3</th>\n",
              "      <td>3831</td>\n",
              "      <td>Cozy Entire Floor of Brownstone</td>\n",
              "      <td>4869</td>\n",
              "      <td>LisaRoxanne</td>\n",
              "      <td>Brooklyn</td>\n",
              "      <td>Clinton Hill</td>\n",
              "      <td>40.68514</td>\n",
              "      <td>-73.95976</td>\n",
              "      <td>Entire home/apt</td>\n",
              "      <td>89</td>\n",
              "      <td>1</td>\n",
              "      <td>270</td>\n",
              "      <td>2019-07-05</td>\n",
              "      <td>4.64</td>\n",
              "      <td>1</td>\n",
              "      <td>194</td>\n",
              "    </tr>\n",
              "    <tr>\n",
              "      <th>4</th>\n",
              "      <td>5022</td>\n",
              "      <td>Entire Apt: Spacious Studio/Loft by central park</td>\n",
              "      <td>7192</td>\n",
              "      <td>Laura</td>\n",
              "      <td>Manhattan</td>\n",
              "      <td>East Harlem</td>\n",
              "      <td>40.79851</td>\n",
              "      <td>-73.94399</td>\n",
              "      <td>Entire home/apt</td>\n",
              "      <td>80</td>\n",
              "      <td>10</td>\n",
              "      <td>9</td>\n",
              "      <td>2018-11-19</td>\n",
              "      <td>0.10</td>\n",
              "      <td>1</td>\n",
              "      <td>0</td>\n",
              "    </tr>\n",
              "  </tbody>\n",
              "</table>\n",
              "</div>"
            ],
            "text/plain": [
              "     id  ... availability_365\n",
              "0  2539  ...              365\n",
              "1  2595  ...              355\n",
              "2  3647  ...              365\n",
              "3  3831  ...              194\n",
              "4  5022  ...                0\n",
              "\n",
              "[5 rows x 16 columns]"
            ]
          },
          "metadata": {},
          "execution_count": 42
        }
      ]
    },
    {
      "cell_type": "code",
      "metadata": {
        "colab": {
          "base_uri": "https://localhost:8080/"
        },
        "id": "ud_jBhDNjEaE",
        "outputId": "18c5e898-d6ab-42fa-a80e-0e05f0aba021"
      },
      "source": [
        "df.columns"
      ],
      "execution_count": 43,
      "outputs": [
        {
          "output_type": "execute_result",
          "data": {
            "text/plain": [
              "Index(['id', 'name', 'host_id', 'host_name', 'neighbourhood_group',\n",
              "       'neighbourhood', 'latitude', 'longitude', 'room_type', 'price',\n",
              "       'minimum_nights', 'number_of_reviews', 'last_review',\n",
              "       'reviews_per_month', 'calculated_host_listings_count',\n",
              "       'availability_365'],\n",
              "      dtype='object')"
            ]
          },
          "metadata": {},
          "execution_count": 43
        }
      ]
    },
    {
      "cell_type": "code",
      "metadata": {
        "colab": {
          "base_uri": "https://localhost:8080/",
          "height": 296
        },
        "id": "36NajYwNjyNo",
        "outputId": "3a6030e4-ff6d-4791-9146-7ea9d4ae3979"
      },
      "source": [
        "sns.histplot(df.price, color = 'black', alpha =0.5, bins=50)\n",
        "\n",
        "#Long tail so need to normalise price "
      ],
      "execution_count": 44,
      "outputs": [
        {
          "output_type": "execute_result",
          "data": {
            "text/plain": [
              "<matplotlib.axes._subplots.AxesSubplot at 0x7f733233f250>"
            ]
          },
          "metadata": {},
          "execution_count": 44
        },
        {
          "output_type": "display_data",
          "data": {
            "image/png": "[encoded data removed]",
            "text/plain": [
              "<Figure size 432x288 with 1 Axes>"
            ]
          },
          "metadata": {
            "needs_background": "light"
          }
        }
      ]
    },
    {
      "cell_type": "code",
      "metadata": {
        "colab": {
          "base_uri": "https://localhost:8080/",
          "height": 312
        },
        "id": "yxBsDA3Mj91V",
        "outputId": "2a988055-153b-42da-83e5-0ca240176ab6"
      },
      "source": [
        "sns.histplot(df.price[df.price< 1000], color = 'black', alpha =0.5, bins=100)\n",
        "plt.ylabel('Frequency')\n",
        "plt.xlabel('Price')\n",
        "plt.title('Distribution of prices')\n",
        "\n",
        "#Long tail so need to normalise price "
      ],
      "execution_count": 45,
      "outputs": [
        {
          "output_type": "execute_result",
          "data": {
            "text/plain": [
              "Text(0.5, 1.0, 'Distribution of prices')"
            ]
          },
          "metadata": {},
          "execution_count": 45
        },
        {
          "output_type": "display_data",
          "data": {
            "image/png": "[encoded data removed]",
            "text/plain": [
              "<Figure size 432x288 with 1 Axes>"
            ]
          },
          "metadata": {
            "needs_background": "light"
          }
        }
      ]
    },
    {
      "cell_type": "code",
      "metadata": {
        "colab": {
          "base_uri": "https://localhost:8080/",
          "height": 204
        },
        "id": "gbi0U4vJkW9B",
        "outputId": "39f2287e-096d-4567-d6ce-178410cf1412"
      },
      "source": [
        "df_focused = df[['latitude',\n",
        "'longitude',\n",
        "'price',\n",
        "'minimum_nights',\n",
        "'number_of_reviews',\n",
        "'reviews_per_month',\n",
        "'calculated_host_listings_count',\n",
        "'availability_365']]\n",
        "\n",
        "df_focused.head()"
      ],
      "execution_count": 46,
      "outputs": [
        {
          "output_type": "execute_result",
          "data": {
            "text/html": [
              "<div>\n",
              "<style scoped>\n",
              "    .dataframe tbody tr th:only-of-type {\n",
              "        vertical-align: middle;\n",
              "    }\n",
              "\n",
              "    .dataframe tbody tr th {\n",
              "        vertical-align: top;\n",
              "    }\n",
              "\n",
              "    .dataframe thead th {\n",
              "        text-align: right;\n",
              "    }\n",
              "</style>\n",
              "<table border=\"1\" class=\"dataframe\">\n",
              "  <thead>\n",
              "    <tr style=\"text-align: right;\">\n",
              "      <th></th>\n",
              "      <th>latitude</th>\n",
              "      <th>longitude</th>\n",
              "      <th>price</th>\n",
              "      <th>minimum_nights</th>\n",
              "      <th>number_of_reviews</th>\n",
              "      <th>reviews_per_month</th>\n",
              "      <th>calculated_host_listings_count</th>\n",
              "      <th>availability_365</th>\n",
              "    </tr>\n",
              "  </thead>\n",
              "  <tbody>\n",
              "    <tr>\n",
              "      <th>0</th>\n",
              "      <td>40.64749</td>\n",
              "      <td>-73.97237</td>\n",
              "      <td>149</td>\n",
              "      <td>1</td>\n",
              "      <td>9</td>\n",
              "      <td>0.21</td>\n",
              "      <td>6</td>\n",
              "      <td>365</td>\n",
              "    </tr>\n",
              "    <tr>\n",
              "      <th>1</th>\n",
              "      <td>40.75362</td>\n",
              "      <td>-73.98377</td>\n",
              "      <td>225</td>\n",
              "      <td>1</td>\n",
              "      <td>45</td>\n",
              "      <td>0.38</td>\n",
              "      <td>2</td>\n",
              "      <td>355</td>\n",
              "    </tr>\n",
              "    <tr>\n",
              "      <th>2</th>\n",
              "      <td>40.80902</td>\n",
              "      <td>-73.94190</td>\n",
              "      <td>150</td>\n",
              "      <td>3</td>\n",
              "      <td>0</td>\n",
              "      <td>NaN</td>\n",
              "      <td>1</td>\n",
              "      <td>365</td>\n",
              "    </tr>\n",
              "    <tr>\n",
              "      <th>3</th>\n",
              "      <td>40.68514</td>\n",
              "      <td>-73.95976</td>\n",
              "      <td>89</td>\n",
              "      <td>1</td>\n",
              "      <td>270</td>\n",
              "      <td>4.64</td>\n",
              "      <td>1</td>\n",
              "      <td>194</td>\n",
              "    </tr>\n",
              "    <tr>\n",
              "      <th>4</th>\n",
              "      <td>40.79851</td>\n",
              "      <td>-73.94399</td>\n",
              "      <td>80</td>\n",
              "      <td>10</td>\n",
              "      <td>9</td>\n",
              "      <td>0.10</td>\n",
              "      <td>1</td>\n",
              "      <td>0</td>\n",
              "    </tr>\n",
              "  </tbody>\n",
              "</table>\n",
              "</div>"
            ],
            "text/plain": [
              "   latitude  longitude  ...  calculated_host_listings_count  availability_365\n",
              "0  40.64749  -73.97237  ...                               6               365\n",
              "1  40.75362  -73.98377  ...                               2               355\n",
              "2  40.80902  -73.94190  ...                               1               365\n",
              "3  40.68514  -73.95976  ...                               1               194\n",
              "4  40.79851  -73.94399  ...                               1                 0\n",
              "\n",
              "[5 rows x 8 columns]"
            ]
          },
          "metadata": {},
          "execution_count": 46
        }
      ]
    },
    {
      "cell_type": "markdown",
      "metadata": {
        "id": "TA3NBXCElPXi"
      },
      "source": [
        "### Question 1 "
      ]
    },
    {
      "cell_type": "code",
      "metadata": {
        "colab": {
          "base_uri": "https://localhost:8080/"
        },
        "id": "4fGYijyyk-Am",
        "outputId": "ad2667dd-35b7-46fb-9544-e7af9bfc7c88"
      },
      "source": [
        "df_focused.isnull().sum()"
      ],
      "execution_count": 47,
      "outputs": [
        {
          "output_type": "execute_result",
          "data": {
            "text/plain": [
              "latitude                              0\n",
              "longitude                             0\n",
              "price                                 0\n",
              "minimum_nights                        0\n",
              "number_of_reviews                     0\n",
              "reviews_per_month                 10052\n",
              "calculated_host_listings_count        0\n",
              "availability_365                      0\n",
              "dtype: int64"
            ]
          },
          "metadata": {},
          "execution_count": 47
        }
      ]
    },
    {
      "cell_type": "markdown",
      "metadata": {
        "id": "8WkT36m_mCJv"
      },
      "source": [
        "### Question 2 "
      ]
    },
    {
      "cell_type": "code",
      "metadata": {
        "colab": {
          "base_uri": "https://localhost:8080/"
        },
        "id": "sFJ91I9ElM6Z",
        "outputId": "35577f6e-6319-4dd6-b8ec-e0d8219739c3"
      },
      "source": [
        "df_focused.minimum_nights.median()"
      ],
      "execution_count": 48,
      "outputs": [
        {
          "output_type": "execute_result",
          "data": {
            "text/plain": [
              "3.0"
            ]
          },
          "metadata": {},
          "execution_count": 48
        }
      ]
    },
    {
      "cell_type": "code",
      "metadata": {
        "id": "oom-dWn6XI8j",
        "colab": {
          "base_uri": "https://localhost:8080/"
        },
        "outputId": "ef1111a1-e3c9-4a7d-a3f1-36a62f397cf1"
      },
      "source": [
        "n = len(df_focused)\n",
        "idx = np.arange(n)\n",
        "np.random.seed(42)\n",
        "np.random.shuffle(idx)\n",
        "n"
      ],
      "execution_count": 49,
      "outputs": [
        {
          "output_type": "execute_result",
          "data": {
            "text/plain": [
              "48895"
            ]
          },
          "metadata": {},
          "execution_count": 49
        }
      ]
    },
    {
      "cell_type": "code",
      "metadata": {
        "id": "lB-ySuZNrREP"
      },
      "source": [
        "n = len(df)\n",
        "\n",
        "n_val = int(n * 0.2)\n",
        "n_test = int(n * 0.2)\n",
        "n_train = n - (n_val + n_test)"
      ],
      "execution_count": 50,
      "outputs": []
    },
    {
      "cell_type": "code",
      "metadata": {
        "colab": {
          "base_uri": "https://localhost:8080/"
        },
        "id": "wVe1FXZml7uO",
        "outputId": "811d2280-3c56-48a3-c7b2-d607bf2caa50"
      },
      "source": [
        "n_train + n_test + n_val"
      ],
      "execution_count": 51,
      "outputs": [
        {
          "output_type": "execute_result",
          "data": {
            "text/plain": [
              "48895"
            ]
          },
          "metadata": {},
          "execution_count": 51
        }
      ]
    },
    {
      "cell_type": "code",
      "metadata": {
        "colab": {
          "base_uri": "https://localhost:8080/",
          "height": 419
        },
        "id": "6j0Vbn9gmfKj",
        "outputId": "69b9db3b-759e-4455-8ea9-9120455661d0"
      },
      "source": [
        "df_val = df_focused.iloc[idx[:n_val]]\n",
        "df_test = df_focused.iloc[idx[n_val:(n_val+n_test)]]\n",
        "df_train = df_focused.iloc[idx[(n_val+n_test):]]\n",
        "df_train"
      ],
      "execution_count": 52,
      "outputs": [
        {
          "output_type": "execute_result",
          "data": {
            "text/html": [
              "<div>\n",
              "<style scoped>\n",
              "    .dataframe tbody tr th:only-of-type {\n",
              "        vertical-align: middle;\n",
              "    }\n",
              "\n",
              "    .dataframe tbody tr th {\n",
              "        vertical-align: top;\n",
              "    }\n",
              "\n",
              "    .dataframe thead th {\n",
              "        text-align: right;\n",
              "    }\n",
              "</style>\n",
              "<table border=\"1\" class=\"dataframe\">\n",
              "  <thead>\n",
              "    <tr style=\"text-align: right;\">\n",
              "      <th></th>\n",
              "      <th>latitude</th>\n",
              "      <th>longitude</th>\n",
              "      <th>price</th>\n",
              "      <th>minimum_nights</th>\n",
              "      <th>number_of_reviews</th>\n",
              "      <th>reviews_per_month</th>\n",
              "      <th>calculated_host_listings_count</th>\n",
              "      <th>availability_365</th>\n",
              "    </tr>\n",
              "  </thead>\n",
              "  <tbody>\n",
              "    <tr>\n",
              "      <th>1261</th>\n",
              "      <td>40.72006</td>\n",
              "      <td>-73.99579</td>\n",
              "      <td>58</td>\n",
              "      <td>6</td>\n",
              "      <td>18</td>\n",
              "      <td>0.21</td>\n",
              "      <td>1</td>\n",
              "      <td>0</td>\n",
              "    </tr>\n",
              "    <tr>\n",
              "      <th>19170</th>\n",
              "      <td>40.68048</td>\n",
              "      <td>-73.99322</td>\n",
              "      <td>130</td>\n",
              "      <td>4</td>\n",
              "      <td>8</td>\n",
              "      <td>0.24</td>\n",
              "      <td>1</td>\n",
              "      <td>0</td>\n",
              "    </tr>\n",
              "    <tr>\n",
              "      <th>45159</th>\n",
              "      <td>40.75933</td>\n",
              "      <td>-73.98751</td>\n",
              "      <td>164</td>\n",
              "      <td>29</td>\n",
              "      <td>0</td>\n",
              "      <td>NaN</td>\n",
              "      <td>327</td>\n",
              "      <td>336</td>\n",
              "    </tr>\n",
              "    <tr>\n",
              "      <th>9085</th>\n",
              "      <td>40.67886</td>\n",
              "      <td>-73.96802</td>\n",
              "      <td>164</td>\n",
              "      <td>1</td>\n",
              "      <td>2</td>\n",
              "      <td>0.04</td>\n",
              "      <td>1</td>\n",
              "      <td>0</td>\n",
              "    </tr>\n",
              "    <tr>\n",
              "      <th>20490</th>\n",
              "      <td>40.72087</td>\n",
              "      <td>-73.98079</td>\n",
              "      <td>300</td>\n",
              "      <td>1</td>\n",
              "      <td>2</td>\n",
              "      <td>0.15</td>\n",
              "      <td>1</td>\n",
              "      <td>0</td>\n",
              "    </tr>\n",
              "    <tr>\n",
              "      <th>...</th>\n",
              "      <td>...</td>\n",
              "      <td>...</td>\n",
              "      <td>...</td>\n",
              "      <td>...</td>\n",
              "      <td>...</td>\n",
              "      <td>...</td>\n",
              "      <td>...</td>\n",
              "      <td>...</td>\n",
              "    </tr>\n",
              "    <tr>\n",
              "      <th>11284</th>\n",
              "      <td>40.84650</td>\n",
              "      <td>-73.94319</td>\n",
              "      <td>60</td>\n",
              "      <td>1</td>\n",
              "      <td>0</td>\n",
              "      <td>NaN</td>\n",
              "      <td>1</td>\n",
              "      <td>0</td>\n",
              "    </tr>\n",
              "    <tr>\n",
              "      <th>44732</th>\n",
              "      <td>40.73957</td>\n",
              "      <td>-74.00082</td>\n",
              "      <td>85</td>\n",
              "      <td>2</td>\n",
              "      <td>4</td>\n",
              "      <td>1.90</td>\n",
              "      <td>1</td>\n",
              "      <td>76</td>\n",
              "    </tr>\n",
              "    <tr>\n",
              "      <th>38158</th>\n",
              "      <td>40.78318</td>\n",
              "      <td>-73.97372</td>\n",
              "      <td>130</td>\n",
              "      <td>30</td>\n",
              "      <td>1</td>\n",
              "      <td>0.34</td>\n",
              "      <td>5</td>\n",
              "      <td>261</td>\n",
              "    </tr>\n",
              "    <tr>\n",
              "      <th>860</th>\n",
              "      <td>40.77508</td>\n",
              "      <td>-73.97990</td>\n",
              "      <td>150</td>\n",
              "      <td>2</td>\n",
              "      <td>11</td>\n",
              "      <td>0.13</td>\n",
              "      <td>1</td>\n",
              "      <td>2</td>\n",
              "    </tr>\n",
              "    <tr>\n",
              "      <th>15795</th>\n",
              "      <td>40.74657</td>\n",
              "      <td>-73.94555</td>\n",
              "      <td>120</td>\n",
              "      <td>5</td>\n",
              "      <td>1</td>\n",
              "      <td>0.03</td>\n",
              "      <td>1</td>\n",
              "      <td>0</td>\n",
              "    </tr>\n",
              "  </tbody>\n",
              "</table>\n",
              "<p>29337 rows × 8 columns</p>\n",
              "</div>"
            ],
            "text/plain": [
              "       latitude  longitude  ...  calculated_host_listings_count  availability_365\n",
              "1261   40.72006  -73.99579  ...                               1                 0\n",
              "19170  40.68048  -73.99322  ...                               1                 0\n",
              "45159  40.75933  -73.98751  ...                             327               336\n",
              "9085   40.67886  -73.96802  ...                               1                 0\n",
              "20490  40.72087  -73.98079  ...                               1                 0\n",
              "...         ...        ...  ...                             ...               ...\n",
              "11284  40.84650  -73.94319  ...                               1                 0\n",
              "44732  40.73957  -74.00082  ...                               1                76\n",
              "38158  40.78318  -73.97372  ...                               5               261\n",
              "860    40.77508  -73.97990  ...                               1                 2\n",
              "15795  40.74657  -73.94555  ...                               1                 0\n",
              "\n",
              "[29337 rows x 8 columns]"
            ]
          },
          "metadata": {},
          "execution_count": 52
        }
      ]
    },
    {
      "cell_type": "code",
      "metadata": {
        "id": "M16Jq0VJnget"
      },
      "source": [
        "df_val = df_val.reset_index(drop=True)\n",
        "df_train = df_train.reset_index(drop=True)\n",
        "df_test = df_test.reset_index(drop=True)"
      ],
      "execution_count": 53,
      "outputs": []
    },
    {
      "cell_type": "code",
      "metadata": {
        "colab": {
          "base_uri": "https://localhost:8080/"
        },
        "id": "9soMWmEwnkg8",
        "outputId": "ade66e67-3867-45f1-eeba-544108d95c70"
      },
      "source": [
        "y_val = np.log1p(df_val.price.values)\n",
        "y_test = np.log1p(df_test.price.values)\n",
        "y_train = np.log1p(df_train.price.values)\n",
        "y_train"
      ],
      "execution_count": 54,
      "outputs": [
        {
          "output_type": "execute_result",
          "data": {
            "text/plain": [
              "array([4.07753744, 4.87519732, 5.10594547, ..., 4.87519732, 5.01727984,\n",
              "       4.79579055])"
            ]
          },
          "metadata": {},
          "execution_count": 54
        }
      ]
    },
    {
      "cell_type": "code",
      "metadata": {
        "id": "s9-U8X2Nn5Pe"
      },
      "source": [
        "del df_train['price']\n",
        "del df_val['price']\n",
        "del df_test['price']"
      ],
      "execution_count": 55,
      "outputs": []
    },
    {
      "cell_type": "markdown",
      "metadata": {
        "id": "6fsqmym1qioc"
      },
      "source": [
        "### Question 3\n"
      ]
    },
    {
      "cell_type": "code",
      "metadata": {
        "id": "s1NnaEEnqmXY"
      },
      "source": [
        "def prepare_X(df, value=0):\n",
        "  df_num = df.fillna(value)\n",
        "  X= df_num.values\n",
        "  return X"
      ],
      "execution_count": 56,
      "outputs": []
    },
    {
      "cell_type": "code",
      "metadata": {
        "id": "K9aHTanFCYT2"
      },
      "source": [
        "def train_linear_regression(X, y):\n",
        "    ones = np.ones(X.shape[0])\n",
        "    X = np.column_stack([ones, X])\n",
        "\n",
        "    XTX = X.T.dot(X)\n",
        "    XTX_inv = np.linalg.inv(XTX)\n",
        "    w = XTX_inv.dot(X.T).dot(y)\n",
        "    \n",
        "    return w[0], w[1:]"
      ],
      "execution_count": 57,
      "outputs": []
    },
    {
      "cell_type": "code",
      "metadata": {
        "id": "E8fLSeX_Cvlx"
      },
      "source": [
        "def rmse(y, y_pred):\n",
        "  error = y-y_pred\n",
        "  se = error **2 \n",
        "  mse = se.mean()\n",
        "  return round(np.sqrt(mse),2)"
      ],
      "execution_count": 58,
      "outputs": []
    },
    {
      "cell_type": "markdown",
      "metadata": {
        "id": "kpTli7aqDE9E"
      },
      "source": [
        "Training Models "
      ]
    },
    {
      "cell_type": "code",
      "metadata": {
        "colab": {
          "base_uri": "https://localhost:8080/"
        },
        "id": "AnPoYUNQCy93",
        "outputId": "41309e67-0016-43cf-c759-78c26a54b54b"
      },
      "source": [
        "X_train = prepare_X(df_train, value=0)\n",
        "w0, w = train_linear_regression(X_train, y_train)\n",
        "y_pred = w0 + X_train.dot(w) \n",
        "rmse(y_train, y_pred)"
      ],
      "execution_count": 59,
      "outputs": [
        {
          "output_type": "execute_result",
          "data": {
            "text/plain": [
              "0.65"
            ]
          },
          "metadata": {},
          "execution_count": 59
        }
      ]
    },
    {
      "cell_type": "code",
      "metadata": {
        "colab": {
          "base_uri": "https://localhost:8080/"
        },
        "id": "pD0y3q8zD4LT",
        "outputId": "8e9da1bc-185e-4fa0-b27f-9ac88fe4d090"
      },
      "source": [
        "mean = df_train.reviews_per_month.mean()\n",
        "\n",
        "X_train = prepare_X(df_train, value=mean)\n",
        "\n",
        "w0, w = train_linear_regression(X_train, y_train)\n",
        "y_pred = w0 + X_train.dot(w) \n",
        "rmse(y_train, y_pred)"
      ],
      "execution_count": 60,
      "outputs": [
        {
          "output_type": "execute_result",
          "data": {
            "text/plain": [
              "0.65"
            ]
          },
          "metadata": {},
          "execution_count": 60
        }
      ]
    },
    {
      "cell_type": "markdown",
      "metadata": {
        "id": "iSFhQNhrEvjf"
      },
      "source": [
        "using the mean to replace missing values is slightly better for training the mode"
      ]
    },
    {
      "cell_type": "markdown",
      "metadata": {
        "id": "DuVQ3zeVE46X"
      },
      "source": [
        "### Question 4 "
      ]
    },
    {
      "cell_type": "code",
      "metadata": {
        "id": "KfK_AQb4En21"
      },
      "source": [
        "def train_linear_regression_reg(X, y, r=0.001):\n",
        "    ones = np.ones(X.shape[0])\n",
        "    X = np.column_stack([ones, X])\n",
        "\n",
        "    XTX = X.T.dot(X)\n",
        "    XTX = XTX + r * np.eye(XTX.shape[0])\n",
        "    XTX_inv = np.linalg.inv(XTX)\n",
        "    w = XTX_inv.dot(X.T).dot(y)\n",
        "    \n",
        "    return w[0], w[1:]"
      ],
      "execution_count": 61,
      "outputs": []
    },
    {
      "cell_type": "code",
      "metadata": {
        "colab": {
          "base_uri": "https://localhost:8080/"
        },
        "id": "ZMIrc39YFFfm",
        "outputId": "2e3733d9-3b68-472a-b4dc-55cb9132c73e"
      },
      "source": [
        "for r in [0, 0.000001, 0.0001, 0.001, 0.01, 0.1, 1, 5, 10]:\n",
        "  X_train = prepare_X(df_train)\n",
        "  w0, w = train_linear_regression_reg(X_train, y_train, r = r)\n",
        "\n",
        "  y_pred = w0 + X_train.dot(w)\n",
        "\n",
        "  score = rmse(y_train, y_pred)\n",
        "  print (r , w0, score )"
      ],
      "execution_count": 62,
      "outputs": [
        {
          "output_type": "stream",
          "name": "stdout",
          "text": [
            "0 -440.3826961845784 0.65\n",
            "1e-06 -440.3291441288488 0.65\n",
            "0.0001 -435.09119702853843 0.65\n",
            "0.001 -392.6315505370462 0.65\n",
            "0.01 -198.7119264267754 0.66\n",
            "0.1 -33.45785655852209 0.68\n",
            "1 -3.590056230757279 0.69\n",
            "5 -0.721592410718433 0.69\n",
            "10 -0.36041879534433474 0.69\n"
          ]
        }
      ]
    },
    {
      "cell_type": "markdown",
      "metadata": {
        "id": "6Q57_iuqF6H8"
      },
      "source": [
        "Best r value bases on the rmse is 0.000001"
      ]
    },
    {
      "cell_type": "markdown",
      "metadata": {
        "id": "q09_5SqqGA2P"
      },
      "source": [
        "### Question 5 "
      ]
    },
    {
      "cell_type": "code",
      "metadata": {
        "colab": {
          "base_uri": "https://localhost:8080/"
        },
        "id": "h8Qa0b3aGAeZ",
        "outputId": "1d89ac2f-987b-4bd9-d79b-adcc99bdd5fe"
      },
      "source": [
        "n = len(df_focused)\n",
        "\n",
        "for seed in [0, 1, 2, 3, 4, 5, 6, 7, 8, 9]: \n",
        "  idx = np.arange(n)\n",
        "  np.random.seed(seed)\n",
        "  np.random.shuffle(idx)\n",
        "\n",
        "  df_val = df_focused.iloc[idx[:n_val]]\n",
        "  df_test = df_focused.iloc[idx[n_val:(n_val+n_test)]]\n",
        "  df_train = df_focused.iloc[idx[(n_val+n_test):]]\n",
        "\n",
        "  df_val = df_val.reset_index(drop=True)\n",
        "  df_train = df_train.reset_index(drop=True)\n",
        "  df_test = df_test.reset_index(drop=True)\n",
        "\n",
        "  y_val = np.log1p(df_val.price.values)\n",
        "  y_test = np.log1p(df_test.price.values)\n",
        "  y_train = np.log1p(df_train.price.values)\n",
        "\n",
        "  del df_train['price']\n",
        "  del df_val['price']\n",
        "  del df_test['price']\n",
        "\n",
        "  X_train = prepare_X(df_train)\n",
        "\n",
        "  r = 0.000001\n",
        "  w0, w = train_linear_regression_reg(X_train, y_train, r = r)\n",
        "\n",
        "  X_val = prepare_X(df_val)\n",
        "  y_pred = w0 + X_val.dot(w)\n",
        "\n",
        "  std_array = pd.DataFrame()\n",
        "\n",
        "  score = rmse(y_val, y_pred)\n",
        "\n",
        "  std = round(np.std(y_pred),3)\n",
        "\n",
        "  print(score)\n",
        "  #print (seed ,r, w0, score, std)\n"
      ],
      "execution_count": 63,
      "outputs": [
        {
          "output_type": "stream",
          "name": "stdout",
          "text": [
            "0.65\n",
            "0.64\n",
            "0.65\n",
            "0.65\n",
            "0.63\n",
            "0.66\n",
            "0.65\n",
            "0.64\n",
            "0.64\n",
            "0.65\n"
          ]
        }
      ]
    },
    {
      "cell_type": "code",
      "metadata": {
        "colab": {
          "base_uri": "https://localhost:8080/"
        },
        "id": "rForDmC9IG2f",
        "outputId": "49ec352c-93b7-4991-dc35-55313831289b"
      },
      "source": [
        "scores =np.array([0.65,\n",
        "0.64,\n",
        "0.65,\n",
        "0.65,\n",
        "0.63,\n",
        "0.66,\n",
        "0.65,\n",
        "0.64,\n",
        "0.64,\n",
        "0.65])\n",
        "\n",
        "round(np.std(scores),3)"
      ],
      "execution_count": 64,
      "outputs": [
        {
          "output_type": "execute_result",
          "data": {
            "text/plain": [
              "0.008"
            ]
          },
          "metadata": {},
          "execution_count": 64
        }
      ]
    },
    {
      "cell_type": "markdown",
      "metadata": {
        "id": "RBL4YnjmKbCO"
      },
      "source": [
        "#### Question 6 "
      ]
    },
    {
      "cell_type": "code",
      "metadata": {
        "colab": {
          "base_uri": "https://localhost:8080/"
        },
        "id": "jFr3RpZCFLPR",
        "outputId": "eb6a86f6-ff81-4515-dd95-908875f61ed1"
      },
      "source": [
        "seed = 9 \n",
        "idx = np.arange(n)\n",
        "np.random.seed(seed)\n",
        "np.random.shuffle(idx)\n",
        "\n",
        "df_val = df_focused.iloc[idx[:n_val]]\n",
        "df_test = df_focused.iloc[idx[n_val:(n_val+n_test)]]\n",
        "df_train = df_focused.iloc[idx[(n_val+n_test):]]\n",
        "\n",
        "df_val = df_val.reset_index(drop=True)\n",
        "df_train = df_train.reset_index(drop=True)\n",
        "df_test = df_test.reset_index(drop=True)\n",
        "\n",
        "y_val = np.log1p(df_val.price.values)\n",
        "y_test = np.log1p(df_test.price.values)\n",
        "y_train = np.log1p(df_train.price.values)\n",
        "\n",
        "del df_train['price']\n",
        "del df_val['price']\n",
        "del df_test['price']\n",
        "\n",
        "df_full_train = pd.concat([df_train, df_val])\n",
        "\n",
        "df_full_train.reset_index(drop=True)\n",
        "\n",
        "y_full_train = np.concatenate([y_train, y_val])\n",
        "\n",
        "X_full_train = prepare_X(df_full_train)\n",
        "\n",
        "r = 0.001\n",
        "w0, w = train_linear_regression_reg(X_full_train, y_full_train, r = r)\n",
        "\n",
        "X_test = prepare_X(df_test)\n",
        "y_pred = w0 + X_test.dot(w)\n",
        "\n",
        "score = rmse(y_val, y_pred)\n",
        "std = round(np.std(y_pred),3)\n",
        "\n",
        "print (seed ,r, w0, score, std)\n",
        "print (score)"
      ],
      "execution_count": 65,
      "outputs": [
        {
          "output_type": "stream",
          "name": "stdout",
          "text": [
            "9 0.001 -385.5858111031472 0.74 0.24\n",
            "0.74\n"
          ]
        }
      ]
    },
    {
      "cell_type": "code",
      "metadata": {
        "id": "kR1w_SPULe5f"
      },
      "source": [
        ""
      ],
      "execution_count": 65,
      "outputs": []
    },
    {
      "cell_type": "code",
      "metadata": {
        "id": "gjQ4O1eBLioE"
      },
      "source": [
        ""
      ],
      "execution_count": 65,
      "outputs": []
    }
  ]
}